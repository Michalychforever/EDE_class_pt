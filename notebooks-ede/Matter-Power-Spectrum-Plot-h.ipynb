{
 "cells": [
  {
   "cell_type": "code",
   "execution_count": 96,
   "metadata": {},
   "outputs": [],
   "source": [
    "import matplotlib\n",
    "import matplotlib.pyplot as plt\n",
    "import numpy as np\n",
    "from classy import Class\n",
    "from scipy.optimize import fsolve\n",
    "from scipy.interpolate import interp1d\n",
    "from scipy.integrate import odeint\n",
    "import math\n"
   ]
  },
  {
   "cell_type": "code",
   "execution_count": 97,
   "metadata": {},
   "outputs": [],
   "source": [
    "font = {'size'   : 10, 'family':'STIXGeneral'}\n",
    "axislabelfontsize='small'\n",
    "matplotlib.rc('font', **font)\n",
    "matplotlib.mathtext.rcParams['legend.fontsize']='medium'"
   ]
  },
  {
   "cell_type": "code",
   "execution_count": 26,
   "metadata": {},
   "outputs": [],
   "source": [
    "LCDM_settings = {# wich output? ClTT, transfer functions delta_i and theta_i\n",
    "                   'output':'tCl,pCl,lCl,mPk',\n",
    "                   'lensing':'yes',\n",
    "                   # LambdaCDM parameters\n",
    "                   'h':0.6821,\n",
    "                   'omega_b':0.02253,\n",
    "                   'omega_cdm':0.1177,\n",
    "                   'A_s':2.216e-9, #caught a typo\n",
    "                   'n_s':0.9686,\n",
    "                   'tau_reio':0.085,\n",
    "                   'm_ncdm': 0.06,\n",
    "                   'N_ncdm':1, \n",
    "                   'N_ur':2.0328,\n",
    "                   #'Omega_Lambda': 6.878622e-01,\n",
    "                   # Take fixed value for primordial Helium (instead of automatic BBN adjustment)\n",
    "                   #'YHe':0.246,\n",
    "                   # other output and precision parameters\n",
    "                   'l_max_scalars':2508,\n",
    "                   'non linear':'HMcode',\n",
    "                   'P_k_max_h/Mpc':100,\n",
    "                   'z_max_pk':3.}"
   ]
  },
  {
   "cell_type": "code",
   "execution_count": 27,
   "metadata": {},
   "outputs": [],
   "source": [
    "LCDM = Class()\n",
    "LCDM.set(LCDM_settings)\n",
    "LCDM.compute()"
   ]
  },
  {
   "cell_type": "code",
   "execution_count": 28,
   "metadata": {},
   "outputs": [],
   "source": [
    "pkLCDM, kLCDM, zLCDM = LCDM.get_pk_and_k_and_z()"
   ]
  },
  {
   "cell_type": "code",
   "execution_count": 29,
   "metadata": {},
   "outputs": [],
   "source": [
    "zDES = np.array([.225,.375,.525,.675,.825])"
   ]
  },
  {
   "cell_type": "code",
   "execution_count": 30,
   "metadata": {},
   "outputs": [],
   "source": [
    "# From smith page 17:\n"
   ]
  },
  {
   "cell_type": "code",
   "execution_count": 98,
   "metadata": {},
   "outputs": [],
   "source": [
    "EDE = Class()\n",
    "#  Use best-fit params  of Smith+ :\n",
    "EDE.set({'h': .7219})\n",
    "EDE.set({'f_scf': 3.98e+26, 'm_scf': 5.301e-28,'thetai_scf': 2.83, 'A_s': 2.215e-09, 'n_s': 0.9889, 'omega_b': 0.02253, 'omega_cdm': 0.1306, 'm_ncdm': 0.06, 'tau_reio': 0.072})\n",
    "\n",
    "#'non linear':'halofit', HMCODE\n",
    "EDE.set({'non linear':'HMCODE','N_ncdm':1, 'N_ur':2.0328, 'Omega_Lambda':0.0, 'Omega_fld':0, 'Omega_scf':-1, 'n_scf':3, 'CC_scf':1, 'scf_parameters':'1, 1, 1, 1, 1, 0.0', 'scf_tuning_index':3, 'attractor_ic_scf':'no', 'output':'tCl pCl lCl mPk', 'lensing':'yes', 'l_max_scalars':2508,'P_k_max_h/Mpc':200,'z_max_pk':3.})\n",
    "EDE.compute()"
   ]
  },
  {
   "cell_type": "code",
   "execution_count": 99,
   "metadata": {},
   "outputs": [
    {
     "name": "stdout",
     "output_type": "stream",
     "text": [
      "1.04142144065\n",
      "0.12235075021\n",
      "3.562732440197178\n"
     ]
    }
   ],
   "source": [
    "print EDE.theta_s_100()\n",
    "print EDE.fEDE()\n",
    "print np.log10(EDE.z_c())"
   ]
  },
  {
   "cell_type": "code",
   "execution_count": null,
   "metadata": {},
   "outputs": [],
   "source": []
  },
  {
   "cell_type": "code",
   "execution_count": 20,
   "metadata": {},
   "outputs": [
    {
     "name": "stdout",
     "output_type": "stream",
     "text": [
      "0.825167183833\n",
      "0.849774576328\n"
     ]
    }
   ],
   "source": [
    "# sigma8(z)\n",
    "print LCDM.sigma8()\n",
    "print EDE.sigma8()\n",
    "\n",
    "ratiosigma8 = np.zeros(100)\n",
    "zsigma8=np.zeros(100)\n",
    "for i in range(100):\n",
    "    ratiosigma8[i] = EDE.sigma(8/EDE.h(),i/100.)/LCDM.sigma(8/LCDM.h(),i/100.)\n",
    "    zsigma8[i]=i/100.\n",
    "\n",
    "plt.plot(zsigma8,ratiosigma8,color=\"k\",lw=2,label='$\\sigma_8 ^{EDE}/\\sigma_8 ^{LCDM} (z) $')\n",
    "plt.hlines(0, 0, 1, colors='k', linestyles='dashed')\n",
    "plt.grid()\n",
    "#plt.xscale('log')\n",
    "plt.xlabel(r'$z$')\n",
    "plt.ylabel(r'$ \\sigma_8 ^{EDE}/\\sigma_8 ^{LCDM} (z) $')\n",
    "plt.xlim([0,1])\n",
    "plt.ylim([1,1.06])\n",
    "#plt.vlines(1./(8./EDE.h()), -.25, .05, colors='r', linestyles='dashed')\n",
    "plt.legend(loc='upper center')\n",
    "plt.savefig('ratiosigma8.pdf')\n",
    "plt.clf()\n",
    "\n",
    "# fsigma8(z)\n",
    "\n",
    "ratiofsigma8 = np.zeros(100)\n",
    "\n",
    "for i in range(100):\n",
    "    ratiofsigma8[i] = EDE.get_fsigma8(i/100.)/LCDM.get_fsigma8(i/100.)\n",
    "\n",
    "\n",
    "plt.plot(zsigma8,ratiofsigma8,color=\"k\",lw=2,label='$f\\sigma_8 ^{EDE}/f\\sigma_8 ^{LCDM} (z) $')\n",
    "plt.hlines(0, 0, 1, colors='k', linestyles='dashed')\n",
    "plt.grid()\n",
    "#plt.xscale('log')\n",
    "plt.xlabel(r'$z$')\n",
    "plt.ylabel(r'$ f\\sigma_8 ^{EDE}/f\\sigma_8 ^{LCDM} (z) $')\n",
    "plt.xlim([0,1])\n",
    "plt.ylim([1,1.06])\n",
    "#plt.vlines(1./(8./EDE.h()), -.25, .05, colors='r', linestyles='dashed')\n",
    "plt.legend(loc='upper center')\n",
    "plt.savefig('ratiofsigma8.pdf')\n",
    "plt.clf()\n"
   ]
  },
  {
   "cell_type": "code",
   "execution_count": 32,
   "metadata": {},
   "outputs": [
    {
     "data": {
      "text/plain": [
       "105.0597848654366"
      ]
     },
     "execution_count": 32,
     "metadata": {},
     "output_type": "execute_result"
    }
   ],
   "source": [
    "kLCDM[-1]/LCDM.h()"
   ]
  },
  {
   "cell_type": "code",
   "execution_count": 34,
   "metadata": {},
   "outputs": [],
   "source": [
    "#P(k) in units of (h/Mpc)^-3 and k in units of (h/Mpc)\n",
    "pkzLCDM = np.zeros((len(kLCDM)-2,len(zDES)))\n",
    "pkzEDE = np.zeros((len(kLCDM)-2,len(zDES)))\n",
    "pkzDiff= np.zeros((len(kLCDM)-2,len(zDES)))\n",
    "pkzratio= np.zeros((len(kLCDM)-2,len(zDES)))\n",
    "kLCDMhLCDM=np.zeros(len(kLCDM)-2)\n",
    "kLCDMhEDE=np.zeros(len(kLCDM)-2)\n",
    "for kindex in range(len(kLCDM)-2):\n",
    "    for zindex in range(len(zDES)):\n",
    "        kLCDMhLCDM[kindex]=kLCDM[kindex]/LCDM.h()\n",
    "        kLCDMhEDE[kindex]=kLCDM[kindex]/EDE.h()\n",
    "        #pkzLCDM[kindex,zindex] = LCDM.h()**3*LCDM.pk(kLCDM[kindex]/LCDM.h(),zDES[zindex])\n",
    "        #pkzEDE[kindex,zindex] = EDE.h()**3*EDE.pk(kLCDM[kindex]/EDE.h(),zDES[zindex])\n",
    "        pkzLCDM[kindex,zindex] = LCDM.pk(kLCDM[kindex]/LCDM.h(),zDES[zindex])\n",
    "        pkzEDE[kindex,zindex] = EDE.pk(kLCDM[kindex]/EDE.h(),zDES[zindex])\n",
    "        pkzDiff[kindex,zindex] = (pkzEDE[kindex,zindex]*pkzLCDM[kindex,zindex]) - 1.\n",
    "        pkzratio[kindex,zindex] = pkzEDE[kindex,zindex]/pkzLCDM[kindex,zindex]"
   ]
  },
  {
   "cell_type": "code",
   "execution_count": 39,
   "metadata": {},
   "outputs": [],
   "source": [
    "#z=0: P(k) in in units of (Mpc)^-3 and k in units of (h/Mpc)\n",
    "\n",
    "pkzLCDM0 = np.zeros(len(kLCDM)-2)\n",
    "pkzEDE0 = np.zeros(len(kLCDM)-2)\n",
    "pkzDiff0 = np.zeros(len(kLCDM)-2)\n",
    "pkzratio0 = np.zeros(len(kLCDM)-2)\n",
    "for kindex in range(len(kLCDM)-2):\n",
    "#        pkzLCDM0[kindex] = LCDM.h()**3*LCDM.pk(kLCDM[kindex]/LCDM.h(),0)\n",
    "#        pkzEDE0[kindex] = EDE.h()**3*EDE.pk(kLCDM[kindex]/EDE.h(),0)\n",
    "        pkzLCDM0[kindex] = LCDM.pk(kLCDM[kindex]/LCDM.h(),0)\n",
    "        pkzEDE0[kindex] = EDE.pk(kLCDM[kindex]/EDE.h(),0)\n",
    "\n",
    "        pkzDiff0[kindex] = (pkzEDE0[kindex]/pkzLCDM0[kindex]) - 1.\n",
    "        pkzratio0[kindex] = pkzEDE0[kindex]/pkzLCDM0[kindex]"
   ]
  },
  {
   "cell_type": "code",
   "execution_count": 36,
   "metadata": {},
   "outputs": [],
   "source": [
    "# P(k) comparison in units of h/Mpc\n",
    "plt.figure()\n",
    "plt.plot(kLCDMhLCDM,pkzLCDM0,c='k',lw=1,label='LCDM; h=.68')\n",
    "plt.plot(kLCDMhEDE,pkzEDE0,c='r',lw=1,label='EDE; h=.72')\n",
    "plt.ylabel(r'$P(k) [(h \\, {\\rm Mpc}^{-1})^{-3}]$ ')\n",
    "plt.xlabel(r'$k [h\\, {\\rm Mpc}^{-1}]$')\n",
    "plt.yscale('log')\n",
    "plt.xscale('log')\n",
    "plt.ylim([1e2,1e5])\n",
    "plt.xlim([1e-4,1e1])\n",
    "plt.title('$P(k)$ comparison in units of h/Mpc at z=0')\n",
    "leg = plt.legend(frameon=True);\n",
    "plt.savefig('Pkh.pdf')\n",
    "plt.clf()"
   ]
  },
  {
   "cell_type": "code",
   "execution_count": 24,
   "metadata": {},
   "outputs": [
    {
     "ename": "ValueError",
     "evalue": "x and y must have same first dimension",
     "output_type": "error",
     "traceback": [
      "\u001b[0;31m---------------------------------------------------------------------------\u001b[0m",
      "\u001b[0;31mValueError\u001b[0m                                Traceback (most recent call last)",
      "\u001b[0;32m<ipython-input-24-a1f905a36033>\u001b[0m in \u001b[0;36m<module>\u001b[0;34m()\u001b[0m\n\u001b[1;32m      6\u001b[0m \u001b[0;34m\u001b[0m\u001b[0m\n\u001b[1;32m      7\u001b[0m \u001b[0;31m#plt.subplot(1, 5, 1)\u001b[0m\u001b[0;34m\u001b[0m\u001b[0;34m\u001b[0m\u001b[0m\n\u001b[0;32m----> 8\u001b[0;31m \u001b[0maxs\u001b[0m\u001b[0;34m[\u001b[0m\u001b[0;36m0\u001b[0m\u001b[0;34m]\u001b[0m\u001b[0;34m.\u001b[0m\u001b[0mplot\u001b[0m\u001b[0;34m(\u001b[0m\u001b[0mkLCDM\u001b[0m\u001b[0;34m,\u001b[0m\u001b[0mpkzLCDM\u001b[0m\u001b[0;34m[\u001b[0m\u001b[0;34m:\u001b[0m\u001b[0;34m,\u001b[0m\u001b[0;36m0\u001b[0m\u001b[0;34m]\u001b[0m\u001b[0;34m,\u001b[0m\u001b[0mc\u001b[0m\u001b[0;34m=\u001b[0m\u001b[0;34m'k'\u001b[0m\u001b[0;34m,\u001b[0m\u001b[0mlw\u001b[0m\u001b[0;34m=\u001b[0m\u001b[0;36m1\u001b[0m\u001b[0;34m,\u001b[0m\u001b[0mlabel\u001b[0m\u001b[0;34m=\u001b[0m\u001b[0;34m'LCDM'\u001b[0m\u001b[0;34m)\u001b[0m\u001b[0;34m\u001b[0m\u001b[0m\n\u001b[0m\u001b[1;32m      9\u001b[0m \u001b[0maxs\u001b[0m\u001b[0;34m[\u001b[0m\u001b[0;36m0\u001b[0m\u001b[0;34m]\u001b[0m\u001b[0;34m.\u001b[0m\u001b[0mplot\u001b[0m\u001b[0;34m(\u001b[0m\u001b[0mkLCDM\u001b[0m\u001b[0;34m,\u001b[0m\u001b[0mpkzEDE\u001b[0m\u001b[0;34m[\u001b[0m\u001b[0;34m:\u001b[0m\u001b[0;34m,\u001b[0m\u001b[0;36m0\u001b[0m\u001b[0;34m]\u001b[0m\u001b[0;34m,\u001b[0m\u001b[0mc\u001b[0m\u001b[0;34m=\u001b[0m\u001b[0;34m'r'\u001b[0m\u001b[0;34m,\u001b[0m\u001b[0mlw\u001b[0m\u001b[0;34m=\u001b[0m\u001b[0;36m1\u001b[0m\u001b[0;34m,\u001b[0m\u001b[0mlabel\u001b[0m\u001b[0;34m=\u001b[0m\u001b[0;34m'EDE'\u001b[0m\u001b[0;34m)\u001b[0m\u001b[0;34m\u001b[0m\u001b[0m\n\u001b[1;32m     10\u001b[0m \u001b[0maxs\u001b[0m\u001b[0;34m[\u001b[0m\u001b[0;36m0\u001b[0m\u001b[0;34m]\u001b[0m\u001b[0;34m.\u001b[0m\u001b[0mset_ylabel\u001b[0m\u001b[0;34m(\u001b[0m\u001b[0;34mr'$P(k)$'\u001b[0m\u001b[0;34m)\u001b[0m\u001b[0;34m\u001b[0m\u001b[0m\n",
      "\u001b[0;32m/System/Library/Frameworks/Python.framework/Versions/2.7/Extras/lib/python/matplotlib/axes.pyc\u001b[0m in \u001b[0;36mplot\u001b[0;34m(self, *args, **kwargs)\u001b[0m\n\u001b[1;32m   4135\u001b[0m         \u001b[0mlines\u001b[0m \u001b[0;34m=\u001b[0m \u001b[0;34m[\u001b[0m\u001b[0;34m]\u001b[0m\u001b[0;34m\u001b[0m\u001b[0m\n\u001b[1;32m   4136\u001b[0m \u001b[0;34m\u001b[0m\u001b[0m\n\u001b[0;32m-> 4137\u001b[0;31m         \u001b[0;32mfor\u001b[0m \u001b[0mline\u001b[0m \u001b[0;32min\u001b[0m \u001b[0mself\u001b[0m\u001b[0;34m.\u001b[0m\u001b[0m_get_lines\u001b[0m\u001b[0;34m(\u001b[0m\u001b[0;34m*\u001b[0m\u001b[0margs\u001b[0m\u001b[0;34m,\u001b[0m \u001b[0;34m**\u001b[0m\u001b[0mkwargs\u001b[0m\u001b[0;34m)\u001b[0m\u001b[0;34m:\u001b[0m\u001b[0;34m\u001b[0m\u001b[0m\n\u001b[0m\u001b[1;32m   4138\u001b[0m             \u001b[0mself\u001b[0m\u001b[0;34m.\u001b[0m\u001b[0madd_line\u001b[0m\u001b[0;34m(\u001b[0m\u001b[0mline\u001b[0m\u001b[0;34m)\u001b[0m\u001b[0;34m\u001b[0m\u001b[0m\n\u001b[1;32m   4139\u001b[0m             \u001b[0mlines\u001b[0m\u001b[0;34m.\u001b[0m\u001b[0mappend\u001b[0m\u001b[0;34m(\u001b[0m\u001b[0mline\u001b[0m\u001b[0;34m)\u001b[0m\u001b[0;34m\u001b[0m\u001b[0m\n",
      "\u001b[0;32m/System/Library/Frameworks/Python.framework/Versions/2.7/Extras/lib/python/matplotlib/axes.pyc\u001b[0m in \u001b[0;36m_grab_next_args\u001b[0;34m(self, *args, **kwargs)\u001b[0m\n\u001b[1;32m    315\u001b[0m                 \u001b[0;32mreturn\u001b[0m\u001b[0;34m\u001b[0m\u001b[0m\n\u001b[1;32m    316\u001b[0m             \u001b[0;32mif\u001b[0m \u001b[0mlen\u001b[0m\u001b[0;34m(\u001b[0m\u001b[0mremaining\u001b[0m\u001b[0;34m)\u001b[0m \u001b[0;34m<=\u001b[0m \u001b[0;36m3\u001b[0m\u001b[0;34m:\u001b[0m\u001b[0;34m\u001b[0m\u001b[0m\n\u001b[0;32m--> 317\u001b[0;31m                 \u001b[0;32mfor\u001b[0m \u001b[0mseg\u001b[0m \u001b[0;32min\u001b[0m \u001b[0mself\u001b[0m\u001b[0;34m.\u001b[0m\u001b[0m_plot_args\u001b[0m\u001b[0;34m(\u001b[0m\u001b[0mremaining\u001b[0m\u001b[0;34m,\u001b[0m \u001b[0mkwargs\u001b[0m\u001b[0;34m)\u001b[0m\u001b[0;34m:\u001b[0m\u001b[0;34m\u001b[0m\u001b[0m\n\u001b[0m\u001b[1;32m    318\u001b[0m                     \u001b[0;32myield\u001b[0m \u001b[0mseg\u001b[0m\u001b[0;34m\u001b[0m\u001b[0m\n\u001b[1;32m    319\u001b[0m                 \u001b[0;32mreturn\u001b[0m\u001b[0;34m\u001b[0m\u001b[0m\n",
      "\u001b[0;32m/System/Library/Frameworks/Python.framework/Versions/2.7/Extras/lib/python/matplotlib/axes.pyc\u001b[0m in \u001b[0;36m_plot_args\u001b[0;34m(self, tup, kwargs)\u001b[0m\n\u001b[1;32m    293\u001b[0m             \u001b[0mx\u001b[0m \u001b[0;34m=\u001b[0m \u001b[0mnp\u001b[0m\u001b[0;34m.\u001b[0m\u001b[0marange\u001b[0m\u001b[0;34m(\u001b[0m\u001b[0my\u001b[0m\u001b[0;34m.\u001b[0m\u001b[0mshape\u001b[0m\u001b[0;34m[\u001b[0m\u001b[0;36m0\u001b[0m\u001b[0;34m]\u001b[0m\u001b[0;34m,\u001b[0m \u001b[0mdtype\u001b[0m\u001b[0;34m=\u001b[0m\u001b[0mfloat\u001b[0m\u001b[0;34m)\u001b[0m\u001b[0;34m\u001b[0m\u001b[0m\n\u001b[1;32m    294\u001b[0m \u001b[0;34m\u001b[0m\u001b[0m\n\u001b[0;32m--> 295\u001b[0;31m         \u001b[0mx\u001b[0m\u001b[0;34m,\u001b[0m \u001b[0my\u001b[0m \u001b[0;34m=\u001b[0m \u001b[0mself\u001b[0m\u001b[0;34m.\u001b[0m\u001b[0m_xy_from_xy\u001b[0m\u001b[0;34m(\u001b[0m\u001b[0mx\u001b[0m\u001b[0;34m,\u001b[0m \u001b[0my\u001b[0m\u001b[0;34m)\u001b[0m\u001b[0;34m\u001b[0m\u001b[0m\n\u001b[0m\u001b[1;32m    296\u001b[0m \u001b[0;34m\u001b[0m\u001b[0m\n\u001b[1;32m    297\u001b[0m         \u001b[0;32mif\u001b[0m \u001b[0mself\u001b[0m\u001b[0;34m.\u001b[0m\u001b[0mcommand\u001b[0m \u001b[0;34m==\u001b[0m \u001b[0;34m'plot'\u001b[0m\u001b[0;34m:\u001b[0m\u001b[0;34m\u001b[0m\u001b[0m\n",
      "\u001b[0;32m/System/Library/Frameworks/Python.framework/Versions/2.7/Extras/lib/python/matplotlib/axes.pyc\u001b[0m in \u001b[0;36m_xy_from_xy\u001b[0;34m(self, x, y)\u001b[0m\n\u001b[1;32m    235\u001b[0m         \u001b[0my\u001b[0m \u001b[0;34m=\u001b[0m \u001b[0mnp\u001b[0m\u001b[0;34m.\u001b[0m\u001b[0matleast_1d\u001b[0m\u001b[0;34m(\u001b[0m\u001b[0my\u001b[0m\u001b[0;34m)\u001b[0m\u001b[0;34m\u001b[0m\u001b[0m\n\u001b[1;32m    236\u001b[0m         \u001b[0;32mif\u001b[0m \u001b[0mx\u001b[0m\u001b[0;34m.\u001b[0m\u001b[0mshape\u001b[0m\u001b[0;34m[\u001b[0m\u001b[0;36m0\u001b[0m\u001b[0;34m]\u001b[0m \u001b[0;34m!=\u001b[0m \u001b[0my\u001b[0m\u001b[0;34m.\u001b[0m\u001b[0mshape\u001b[0m\u001b[0;34m[\u001b[0m\u001b[0;36m0\u001b[0m\u001b[0;34m]\u001b[0m\u001b[0;34m:\u001b[0m\u001b[0;34m\u001b[0m\u001b[0m\n\u001b[0;32m--> 237\u001b[0;31m             \u001b[0;32mraise\u001b[0m \u001b[0mValueError\u001b[0m\u001b[0;34m(\u001b[0m\u001b[0;34m\"x and y must have same first dimension\"\u001b[0m\u001b[0;34m)\u001b[0m\u001b[0;34m\u001b[0m\u001b[0m\n\u001b[0m\u001b[1;32m    238\u001b[0m         \u001b[0;32mif\u001b[0m \u001b[0mx\u001b[0m\u001b[0;34m.\u001b[0m\u001b[0mndim\u001b[0m \u001b[0;34m>\u001b[0m \u001b[0;36m2\u001b[0m \u001b[0;32mor\u001b[0m \u001b[0my\u001b[0m\u001b[0;34m.\u001b[0m\u001b[0mndim\u001b[0m \u001b[0;34m>\u001b[0m \u001b[0;36m2\u001b[0m\u001b[0;34m:\u001b[0m\u001b[0;34m\u001b[0m\u001b[0m\n\u001b[1;32m    239\u001b[0m             \u001b[0;32mraise\u001b[0m \u001b[0mValueError\u001b[0m\u001b[0;34m(\u001b[0m\u001b[0;34m\"x and y can be no greater than 2-D\"\u001b[0m\u001b[0;34m)\u001b[0m\u001b[0;34m\u001b[0m\u001b[0m\n",
      "\u001b[0;31mValueError\u001b[0m: x and y must have same first dimension"
     ]
    }
   ],
   "source": [
    "# 5-panel plot: Non-Linear Matter Power Spectrum at the DES redshifts\n",
    "\n",
    "\n",
    "\n",
    "fig, axs = plt.subplots(1, 5, sharey=True)\n",
    "\n",
    "fig.subplots_adjust(hspace=0)\n",
    "\n",
    "#plt.subplot(1, 5, 1)\n",
    "axs[0].plot(kLCDM,pkzLCDM[:,0],c='k',lw=1,label='LCDM')\n",
    "axs[0].plot(kLCDM,pkzEDE[:,0],c='r',lw=1,label='EDE')\n",
    "axs[0].set_ylabel(r'$P(k)$')\n",
    "#axs[0].set_xlabel(r'k, Mpc$^{-1}$')\n",
    "axs[0].set_yscale('log')\n",
    "axs[0].set_xscale('log')\n",
    "axs[0].set_ylim([1e2,1e5])\n",
    "axs[0].set_xlim([1e-4,1e1])\n",
    "axs[0].set_title('z=0.225')\n",
    "\n",
    "axs[1].plot(kLCDM,pkzLCDM[:,1],c='k',lw=1)\n",
    "axs[1].plot(kLCDM,pkzEDE[:,1],c='r',lw=1)\n",
    "axs[1].set_yscale('log')\n",
    "axs[1].set_xscale('log')\n",
    "axs[1].set_ylim([1e2,1e5])\n",
    "axs[1].set_xlim([1e-4,1e1])\n",
    "axs[1].set_title('z=0.375')\n",
    "\n",
    "axs[2].plot(kLCDM,pkzLCDM[:,2],c='k',lw=1)\n",
    "axs[2].plot(kLCDM,pkzEDE[:,2],c='r',lw=1)\n",
    "axs[2].set_yscale('log')\n",
    "axs[2].set_xscale('log')\n",
    "axs[2].set_ylim([1e2,1e5])\n",
    "axs[2].set_xlim([1e-4,1e1])\n",
    "axs[2].set_title('z=0.525')\n",
    "\n",
    "axs[3].plot(kLCDM,pkzLCDM[:,3],c='k',lw=1)\n",
    "axs[3].plot(kLCDM,pkzEDE[:,3],c='r',lw=1)\n",
    "axs[3].set_yscale('log')\n",
    "axs[3].set_xscale('log')\n",
    "axs[3].set_ylim([1e2,1e5])\n",
    "axs[3].set_xlim([1e-4,1e1])\n",
    "axs[3].set_title('z=0.675')\n",
    "\n",
    "axs[4].plot(kLCDM,pkzLCDM[:,4],c='k',lw=1,label='LCDM')\n",
    "axs[4].plot(kLCDM,pkzEDE[:,4],c='r',lw=1,label='EDE')\n",
    "axs[4].set_yscale('log')\n",
    "axs[4].set_xscale('log')\n",
    "axs[4].set_ylim([1e2,1e5])\n",
    "axs[4].set_xlim([1e-4,1e1])\n",
    "axs[4].set_title('z=0.825')\n",
    "leg = axs[4].legend(frameon=False);\n",
    "\n",
    "\n",
    "\n",
    "plt.savefig('Pk.pdf') \n"
   ]
  },
  {
   "cell_type": "code",
   "execution_count": 104,
   "metadata": {},
   "outputs": [],
   "source": [
    "# 5-panel Fractional Difference Plot\n",
    "\n",
    "# rescaled k\n",
    "kLCDMhLCDM=kLCDM/LCDM.h()\n",
    "kLCDMhEDE=kLCDM/EDE.h()\n",
    "\n",
    "figdiff, axsdiff = plt.subplots(1, 5, sharey=True)\n",
    "\n",
    "figdiff.subplots_adjust(hspace=0)\n",
    "\n",
    "#plt.subplot(1, 5, 1)\n",
    "axsdiff[0].plot(kLCDMhLCDM,pkzDiff[:,0],c='k',lw=1)\n",
    "axsdiff[0].set_ylabel(r'$1 \\, -\\, (P(k)_{EDE}/P(k)_{LCDM})$')\n",
    "#axsdiff[0].set_xlabel(r'k, Mpc$^{-1}$')\n",
    "axsdiff[0].set_xscale('log')\n",
    "axsdiff[0].set_ylim([-.3,0.1])\n",
    "axsdiff[0].set_xlim([1e-4,1e1])\n",
    "\n",
    "axsdiff[1].plot(kLCDM,pkzDiff[:,1],c='k',lw=1)\n",
    "axsdiff[1].set_xscale('log')\n",
    "axsdiff[1].set_xlim([1e-4,1e1])\n",
    "\n",
    "axsdiff[2].plot(kLCDM,pkzDiff[:,2],c='k',lw=1)\n",
    "axsdiff[2].set_xscale('log')\n",
    "axsdiff[2].set_xlim([1e-4,1e1])\n",
    "\n",
    "axsdiff[3].plot(kLCDM,pkzDiff[:,3],c='k',lw=1)\n",
    "axsdiff[3].set_xscale('log')\n",
    "axsdiff[3].set_xlim([1e-4,1e1])\n",
    "\n",
    "axsdiff[4].plot(kLCDM,pkzDiff[:,4],c='k',lw=1)\n",
    "axsdiff[4].set_xscale('log')\n",
    "axsdiff[4].set_xlim([1e-4,1e1])\n",
    "\n",
    "\n",
    "plt.savefig('diffPk.pdf') "
   ]
  },
  {
   "cell_type": "code",
   "execution_count": 11,
   "metadata": {},
   "outputs": [],
   "source": [
    "# fEDE \n",
    "\n",
    "baEDE = EDE.get_background()\n",
    "fEDE = EDE.fEDE()\n",
    "z_c = EDE.z_c()\n",
    "baH = baEDE['H [1/Mpc]']\n",
    "baT = baEDE['conf. time [Mpc]']\n",
    "baa = 1/(1 + baEDE['z'])\n",
    "bV = baEDE['V_e_scf']\n",
    "bpp = baEDE[\"phi'_scf\"]\n",
    "baCrit = baEDE['(.)rho_crit']\n",
    "rho_scf = (bpp*bpp/(2*baa*baa) + bV)/3.\n",
    "plt.figure(figsize=(10,10))\n",
    "plt.rcParams.update({'font.size': 18})\n",
    "plt.plot(baEDE['z'],rho_scf/baCrit,lw=2,c='k')\n",
    "#plt.axhline(fEDE,c='r',ls='--')\n",
    "#plt.axvline(z_c,c='r',ls='--')\n",
    "plt.xscale('log')\n",
    "plt.xlim([10,1e5])\n",
    "plt.xlabel('z')\n",
    "plt.ylabel(r'$f_{EDE}$')\n",
    "plt.savefig('fEDE.pdf')\n",
    "plt.clf()"
   ]
  },
  {
   "cell_type": "code",
   "execution_count": 43,
   "metadata": {},
   "outputs": [
    {
     "name": "stdout",
     "output_type": "stream",
     "text": [
      "3.56273242375\n",
      "0.122367935724\n",
      "0.6821\n",
      "0.7222366\n"
     ]
    }
   ],
   "source": [
    "print math.log10(EDE.z_c())\n",
    "print EDE.fEDE()\n",
    "print LCDM.h()\n",
    "print EDE.h()"
   ]
  },
  {
   "cell_type": "code",
   "execution_count": 41,
   "metadata": {},
   "outputs": [],
   "source": [
    "# single-panel non-Linear P(k) fractional difference\n",
    "\n",
    "\n",
    "\n",
    "plt.figure(figsize=(12,12))\n",
    "plt.plot(kLCDMhLCDM,pkzDiff0,color=\"0.1\",lw=1,label='z=0')\n",
    "plt.plot(kLCDMhLCDM,pkzDiff[:,0],color=\"0.2\",lw=1,label='z=0.225')\n",
    "plt.plot(kLCDMhLCDM,pkzDiff[:,1],color=\"0.3\",lw=1,label='z=0.375')\n",
    "plt.plot(kLCDMhLCDM,pkzDiff[:,2],color=\"0.5\",lw=1,label='z=0.525')\n",
    "plt.plot(kLCDMhLCDM,pkzDiff[:,3],color=\"0.7\",lw=1,label='z=0.675')\n",
    "plt.plot(kLCDMhLCDM,pkzDiff[:,4],color=\"0.8\",lw=1,label='z=0.825')\n",
    "plt.hlines(0, 1e-4, 10, colors='k', linestyles='dashed')\n",
    "plt.grid()\n",
    "plt.xscale('log')\n",
    "plt.xlabel(r'$k\\,  [{\\rm Mpc}^{-1}]$')\n",
    "plt.ylabel(r'$ P(k)_{EDE}/P(k)_{LCDM} \\, - \\,1$')\n",
    "plt.xlim([1e-4,1e1])\n",
    "plt.ylim([-.25,0.05])\n",
    "plt.vlines(1./(8./LCDM.h()), -.25, .05, colors='r', linestyles='dashed',label='h/8 ')\n",
    "plt.legend(loc='upper center')\n",
    "plt.savefig('PkDiffOnePloth.pdf')\n",
    "plt.clf()\n",
    "\n",
    "\n",
    "plt.figure(figsize=(12,12))\n",
    "plt.plot(kLCDMhLCDM,pkzratio0,color=\"0.1\",lw=1,label='z=0')\n",
    "plt.plot(kLCDMhLCDM,pkzratio[:,0],color=\"0.2\",lw=1,label='z=0.225')\n",
    "plt.plot(kLCDMhLCDM,pkzratio[:,1],color=\"0.3\",lw=1,label='z=0.375')\n",
    "plt.plot(kLCDMhLCDM,pkzratio[:,2],color=\"0.5\",lw=1,label='z=0.525')\n",
    "plt.plot(kLCDMhLCDM,pkzratio[:,3],color=\"0.7\",lw=1,label='z=0.675')\n",
    "plt.plot(kLCDMhLCDM,pkzratio[:,4],color=\"0.8\",lw=1,label='z=0.825')\n",
    "plt.hlines(1, 1e-4, 10, colors='k', linestyles='dashed')\n",
    "plt.vlines(1./(8./LCDM.h()), .5, 1.5, colors='r', linestyles='dashed',label='h/8 ')\n",
    "plt.grid()\n",
    "plt.xscale('log')\n",
    "plt.xlabel(r'$k\\,  [h {\\rm Mpc}^{-1}]$')\n",
    "plt.ylabel(r'$ P(k)_{EDE} [{\\rm Mpc}^{3}] / P(k)_{LCDM}[{\\rm Mpc}^{3}] $')\n",
    "plt.xlim([1e-4,1e1])\n",
    "plt.ylim([.5,1.5])\n",
    "plt.legend(loc='upper center')\n",
    "plt.savefig('PkDiffOnePlot-ratioh.pdf')\n",
    "plt.clf()\n"
   ]
  },
  {
   "cell_type": "code",
   "execution_count": 13,
   "metadata": {},
   "outputs": [],
   "source": [
    "# single-panel non-Linear P(k)\n",
    "\n",
    "plt.figure(figsize=(12,12))\n",
    "plt.plot(kLCDM,pkzEDE[:,0],c='r',lw=1)\n",
    "plt.plot(kLCDM,pkzEDE[:,1],c='r',lw=1)\n",
    "plt.plot(kLCDM,pkzEDE[:,2],c='r',lw=1)\n",
    "plt.plot(kLCDM,pkzEDE[:,3],c='r',lw=1)\n",
    "plt.plot(kLCDM,pkzEDE[:,4],c='r',lw=1)\n",
    "plt.plot(kLCDM,pkzLCDM[:,0],c='k',lw=1)\n",
    "plt.plot(kLCDM,pkzLCDM[:,1],c='k',lw=1)\n",
    "plt.plot(kLCDM,pkzLCDM[:,2],c='k',lw=1)\n",
    "plt.plot(kLCDM,pkzLCDM[:,3],c='k',lw=1)\n",
    "plt.plot(kLCDM,pkzLCDM[:,4],c='k',lw=1)\n",
    "plt.xscale('log')\n",
    "plt.yscale('log')\n",
    "plt.savefig('PkOnePlot.pdf')"
   ]
  },
  {
   "cell_type": "markdown",
   "metadata": {},
   "source": [
    "# Consider varying fEDE"
   ]
  },
  {
   "cell_type": "code",
   "execution_count": 14,
   "metadata": {},
   "outputs": [],
   "source": [
    "EDE1 = Class()\n",
    "EDE1.set({'f_scf': 3.98e+26, 'm_scf': 5.31e-28,'thetai_scf': 2.83, 'A_s': 2.215e-09, 'n_s': 0.9889, '100*theta_s': 1.04152, 'omega_b': 0.02253, 'omega_cdm': 0.1306, 'm_ncdm': 0.06, 'tau_reio': 0.072})\n",
    "EDE1.set({'non linear':'HMCODE','N_ncdm':1, 'N_ur':2.0328, 'Omega_Lambda':0.0, 'Omega_fld':0, 'Omega_scf':-1, 'n_scf':3, 'CC_scf':1, 'scf_parameters':'1, 1, 1, 1, 1, 0.0', 'scf_tuning_index':3, 'attractor_ic_scf':'no', 'output':'tCl pCl lCl mPk', 'lensing':'yes', 'l_max_scalars':2508, 'P_k_max_h/Mpc':200,'z_max_pk':2.})\n",
    "EDE1.compute()\n",
    "EDE2 = Class()\n",
    "EDE2.set({'f_scf': 4.98e+26, 'm_scf': 5.31e-28,'thetai_scf': 2.83, 'A_s': 2.215e-09, 'n_s': 0.9889, '100*theta_s': 1.04152, 'omega_b': 0.02253, 'omega_cdm': 0.1306, 'm_ncdm': 0.06, 'tau_reio': 0.072})\n",
    "EDE2.set({'non linear':'HMCODE','N_ncdm':1, 'N_ur':2.0328, 'Omega_Lambda':0.0, 'Omega_fld':0, 'Omega_scf':-1, 'n_scf':3, 'CC_scf':1, 'scf_parameters':'1, 1, 1, 1, 1, 0.0', 'scf_tuning_index':3, 'attractor_ic_scf':'no', 'output':'tCl pCl lCl mPk', 'lensing':'yes', 'l_max_scalars':2508, 'P_k_max_h/Mpc':200,'z_max_pk':2.})\n",
    "EDE2.compute()\n",
    "EDE3 = Class()\n",
    "EDE3.set({'f_scf': 5.98e+26, 'm_scf': 5.31e-28,'thetai_scf': 2.83, 'A_s': 2.215e-09, 'n_s': 0.9889, '100*theta_s': 1.04152, 'omega_b': 0.02253, 'omega_cdm': 0.1306, 'm_ncdm': 0.06, 'tau_reio': 0.072})\n",
    "EDE3.set({'non linear':'HMCODE','N_ncdm':1, 'N_ur':2.0328, 'Omega_Lambda':0.0, 'Omega_fld':0, 'Omega_scf':-1, 'n_scf':3, 'CC_scf':1, 'scf_parameters':'1, 1, 1, 1, 1, 0.0', 'scf_tuning_index':3, 'attractor_ic_scf':'no', 'output':'tCl pCl lCl mPk', 'lensing':'yes', 'l_max_scalars':2508, 'P_k_max_h/Mpc':200,'z_max_pk':2.})\n",
    "EDE3.compute()\n",
    "EDE4 = Class()\n",
    "EDE4.set({'f_scf': 6.98e+26, 'm_scf': 5.31e-28,'thetai_scf': 2.83, 'A_s': 2.215e-09, 'n_s': 0.9889, '100*theta_s': 1.04152, 'omega_b': 0.02253, 'omega_cdm': 0.1306, 'm_ncdm': 0.06, 'tau_reio': 0.072})\n",
    "EDE4.set({'non linear':'HMCODE','N_ncdm':1, 'N_ur':2.0328, 'Omega_Lambda':0.0, 'Omega_fld':0, 'Omega_scf':-1, 'n_scf':3, 'CC_scf':1, 'scf_parameters':'1, 1, 1, 1, 1, 0.0', 'scf_tuning_index':3, 'attractor_ic_scf':'no', 'output':'tCl pCl lCl mPk', 'lensing':'yes', 'l_max_scalars':2508, 'P_k_max_h/Mpc':200,'z_max_pk':2.})\n",
    "EDE4.compute()\n"
   ]
  },
  {
   "cell_type": "code",
   "execution_count": 35,
   "metadata": {},
   "outputs": [
    {
     "name": "stdout",
     "output_type": "stream",
     "text": [
      "0.122367935724\n",
      "0.183896831053\n",
      "0.252522936444\n",
      "0.32533009618\n"
     ]
    }
   ],
   "source": [
    "print EDE1.fEDE()\n",
    "print EDE2.fEDE()\n",
    "print EDE3.fEDE()\n",
    "print EDE4.fEDE()"
   ]
  },
  {
   "cell_type": "code",
   "execution_count": 15,
   "metadata": {},
   "outputs": [],
   "source": [
    " \n",
    "pkzEDE1 = np.zeros((len(kLCDM),len(zDES)))\n",
    "pkzEDE2 = np.zeros((len(kLCDM),len(zDES)))\n",
    "pkzEDE3 = np.zeros((len(kLCDM),len(zDES)))\n",
    "pkzEDE4 = np.zeros((len(kLCDM),len(zDES)))\n",
    "pkzDiff1 = np.zeros((len(kLCDM),len(zDES)))\n",
    "pkzDiff2 = np.zeros((len(kLCDM),len(zDES)))\n",
    "pkzDiff3 = np.zeros((len(kLCDM),len(zDES)))\n",
    "pkzDiff4 = np.zeros((len(kLCDM),len(zDES)))\n",
    "for kindex in range(len(kLCDM)):\n",
    "    for zindex in range(len(zDES)):\n",
    "        pkzEDE1[kindex,zindex] = EDE1.pk(kLCDM[kindex],zDES[zindex])\n",
    "        pkzDiff1[kindex,zindex] = (-pkzLCDM[kindex,zindex] + pkzEDE1[kindex,zindex])/pkzLCDM[kindex,zindex]\n",
    "        pkzEDE2[kindex,zindex] = EDE2.pk(kLCDM[kindex],zDES[zindex])\n",
    "        pkzDiff2[kindex,zindex] = (-pkzLCDM[kindex,zindex] + pkzEDE2[kindex,zindex])/pkzLCDM[kindex,zindex]\n",
    "        pkzEDE3[kindex,zindex] = EDE3.pk(kLCDM[kindex],zDES[zindex])\n",
    "        pkzDiff3[kindex,zindex] = (-pkzLCDM[kindex,zindex] + pkzEDE3[kindex,zindex])/pkzLCDM[kindex,zindex]\n",
    "        pkzEDE4[kindex,zindex] = EDE4.pk(kLCDM[kindex],zDES[zindex])\n",
    "        pkzDiff4[kindex,zindex] = (-pkzLCDM[kindex,zindex] + pkzEDE4[kindex,zindex])/pkzLCDM[kindex,zindex]"
   ]
  },
  {
   "cell_type": "code",
   "execution_count": 19,
   "metadata": {},
   "outputs": [],
   "source": [
    "# Plot diffPk for varying fEDE\n",
    "plt.clf()\n",
    "plt.figure(figsize=(12,12))\n",
    "plt.plot(kLCDM,pkzDiff1[:,0],color=\"0.2\",lw=1,label='$f_{EDE}=.12$')\n",
    "plt.plot(kLCDM,pkzDiff2[:,0],color=\"0.4\",lw=1,label='$f_{EDE}=.18$')\n",
    "plt.plot(kLCDM,pkzDiff3[:,0],color=\"0.7\",lw=1,label='$f_{EDE}=.25$')\n",
    "plt.plot(kLCDM,pkzDiff4[:,0],color=\"0.9\",lw=1,label='$f_{EDE}=.32$')\n",
    "plt.xscale('log')\n",
    "plt.xlim([1e-4,1e1])\n",
    "plt.ylim([-.5,0.05])\n",
    "plt.ylabel(r'$(P(k)_{LCDM}-P(k)_{EDE})/P(k)_{LCDM}$')\n",
    "plt.legend(loc='upper center')\n",
    "plt.savefig('PkDiff_fEDE.pdf')\n",
    "\n"
   ]
  },
  {
   "cell_type": "code",
   "execution_count": 156,
   "metadata": {},
   "outputs": [],
   "source": [
    "# For reference: 5-panel Linear-Power Spectrum\n",
    "\n",
    "pkzlinLCDM = np.zeros((len(kLCDM),len(zDES)))\n",
    "pkzlinEDE = np.zeros((len(kLCDM),len(zDES)))\n",
    "pkzlinDiff= np.zeros((len(kLCDM),len(zDES)))\n",
    "for kindex in range(len(kLCDM)):\n",
    "    for zindex in range(len(zDES)):\n",
    "        pkzlinLCDM[kindex,zindex] = LCDM.pk_lin(kLCDM[kindex],zDES[zindex])\n",
    "        pkzlinEDE[kindex,zindex] = EDE.pk_lin(kLCDM[kindex],zDES[zindex])\n",
    "        pkzlinDiff[kindex,zindex] = (pkzlinLCDM[kindex,zindex] - pkzlinEDE[kindex,zindex])/pkzlinLCDM[kindex,zindex]\n",
    "\n",
    "figlin, axslin = plt.subplots(1, 5, sharey=True)\n",
    "\n",
    "figlin.subplots_adjust(hspace=0)\n",
    "\n",
    "#plt.subplot(1, 5, 1)\n",
    "axslin[0].plot(kLCDM,pkzlinLCDM[:,0],c='k',lw=1)\n",
    "axslin[0].plot(kLCDM,pkzlinEDE[:,0],c='r',lw=1)\n",
    "axslin[0].set_ylabel(r'$P(k)$')\n",
    "#axslin[0].set_xlabel(r'k, Mpc$^{-1}$')\n",
    "axslin[0].set_yscale('log')\n",
    "axslin[0].set_xscale('log')\n",
    "axslin[0].set_ylim([1e2,1e5])\n",
    "axslin[0].set_xlim([1e-4,1e0])\n",
    "\n",
    "axslin[1].plot(kLCDM,pkzlinLCDM[:,1],c='k',lw=1)\n",
    "axslin[1].plot(kLCDM,pkzlinEDE[:,1],c='r',lw=1)\n",
    "axslin[1].set_yscale('log')\n",
    "axslin[1].set_xscale('log')\n",
    "axslin[1].set_ylim([1e2,1e5])\n",
    "axslin[1].set_xlim([1e-4,1e0])\n",
    "\n",
    "axslin[2].plot(kLCDM,pkzlinLCDM[:,2],c='k',lw=1)\n",
    "axslin[2].plot(kLCDM,pkzlinEDE[:,2],c='r',lw=1)\n",
    "axslin[2].set_yscale('log')\n",
    "axslin[2].set_xscale('log')\n",
    "axslin[2].set_ylim([1e2,1e5])\n",
    "axslin[2].set_xlim([1e-4,1e0])\n",
    "\n",
    "axslin[3].plot(kLCDM,pkzlinLCDM[:,3],c='k',lw=1)\n",
    "axslin[3].plot(kLCDM,pkzlinEDE[:,3],c='r',lw=1)\n",
    "axslin[3].set_yscale('log')\n",
    "axslin[3].set_xscale('log')\n",
    "axslin[3].set_ylim([1e2,1e5])\n",
    "axslin[3].set_xlim([1e-4,1e0])\n",
    "\n",
    "axslin[4].plot(kLCDM,pkzlinLCDM[:,4],c='k',lw=1)\n",
    "axslin[4].plot(kLCDM,pkzlinEDE[:,4],c='r',lw=1)\n",
    "axslin[4].set_yscale('log')\n",
    "axslin[4].set_xscale('log')\n",
    "axslin[4].set_ylim([1e2,1e5])\n",
    "axslin[4].set_xlim([1e-4,1e0])\n",
    "\n",
    "\n",
    "plt.savefig('Pklin.pdf')\n",
    "\n",
    "figlindiff, axslindiff = plt.subplots(1, 5, sharey=True)\n",
    "\n",
    "figlindiff.subplots_adjust(hspace=0)\n",
    "\n",
    "#plt.subplot(1, 5, 1)\n",
    "axslindiff[0].plot(kLCDM,pkzlinDiff[:,0],c='k',lw=1)\n",
    "axslindiff[0].set_ylabel(r'$P(k)$')\n",
    "#axslindiff[0].set_xlabel(r'k, Mpc$^{-1}$')\n",
    "axslindiff[0].set_xscale('log')\n",
    "axslindiff[0].set_ylim([-1,1])\n",
    "axslindiff[0].set_xlim([1e-4,1e0])\n",
    "\n",
    "axslindiff[1].plot(kLCDM,pkzlinDiff[:,1],c='k',lw=1)\n",
    "axslindiff[1].set_xscale('log')\n",
    "axslindiff[0].set_ylim([-1,1])\n",
    "axslindiff[1].set_xlim([1e-4,1e0])\n",
    "\n",
    "axslindiff[2].plot(kLCDM,pkzlinDiff[:,2],c='k',lw=1)\n",
    "axslindiff[2].set_xscale('log')\n",
    "axslindiff[0].set_ylim([-1,1])\n",
    "axslindiff[2].set_xlim([1e-4,1e0])\n",
    "\n",
    "axslindiff[3].plot(kLCDM,pkzlinDiff[:,3],c='k',lw=1)\n",
    "axslindiff[3].set_xscale('log')\n",
    "axslindiff[0].set_ylim([-1,0.1])\n",
    "axslindiff[3].set_xlim([1e-4,1e0])\n",
    "\n",
    "axslindiff[4].plot(kLCDM,pkzlinDiff[:,4],c='k',lw=1)\n",
    "axslindiff[4].set_xscale('log')\n",
    "axslindiff[0].set_ylim([-1,1])\n",
    "axslindiff[4].set_xlim([1e-4,1e0])\n",
    "\n",
    "\n",
    "plt.savefig('diffPklin.pdf')\n"
   ]
  },
  {
   "cell_type": "code",
   "execution_count": 80,
   "metadata": {},
   "outputs": [
    {
     "data": {
      "text/plain": [
       "0.2950722535684526"
      ]
     },
     "execution_count": 80,
     "metadata": {},
     "output_type": "execute_result"
    }
   ],
   "source": [
    "EDE.Om_m(0)"
   ]
  },
  {
   "cell_type": "code",
   "execution_count": null,
   "metadata": {},
   "outputs": [],
   "source": []
  }
 ],
 "metadata": {
  "kernelspec": {
   "display_name": "Python 2",
   "language": "python",
   "name": "python2"
  },
  "language_info": {
   "codemirror_mode": {
    "name": "ipython",
    "version": 2
   },
   "file_extension": ".py",
   "mimetype": "text/x-python",
   "name": "python",
   "nbconvert_exporter": "python",
   "pygments_lexer": "ipython2",
   "version": "2.7.10"
  }
 },
 "nbformat": 4,
 "nbformat_minor": 2
}
