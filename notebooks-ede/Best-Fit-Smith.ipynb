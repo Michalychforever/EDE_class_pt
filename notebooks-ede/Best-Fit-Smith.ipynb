{
 "cells": [
  {
   "cell_type": "code",
   "execution_count": null,
   "metadata": {},
   "outputs": [],
   "source": [
    "# 5th decimal of theta_s is sensitivite to 4th digit of fEDE, and 3rd decimal of log10zc."
   ]
  },
  {
   "cell_type": "code",
   "execution_count": 1,
   "metadata": {},
   "outputs": [],
   "source": [
    "import matplotlib\n",
    "import matplotlib.pyplot as plt\n",
    "import numpy as np\n",
    "from classy import Class\n",
    "from scipy.optimize import fsolve\n",
    "from scipy.interpolate import interp1d\n",
    "from scipy.integrate import odeint\n",
    "import math\n"
   ]
  },
  {
   "cell_type": "code",
   "execution_count": 25,
   "metadata": {},
   "outputs": [],
   "source": [
    "EDE = Class()\n",
    "#  Use best-fit params  of Smith+ :\n",
    "EDE.set({'h': .7219})\n",
    "EDE.set({'f_scf': 3.974e+26, 'm_scf': 5.38e-28,'thetai_scf': 2.83, 'A_s': 2.215e-09, 'n_s': 0.9889, 'omega_b': 0.02253, 'omega_cdm': 0.1306, 'm_ncdm': 0.06, 'tau_reio': 0.072})\n",
    "EDE.set({'non linear':'HMCODE','N_ncdm':1, 'N_ur':2.0328, 'Omega_Lambda':0.0, 'Omega_fld':0, 'Omega_scf':-1, 'n_scf':3, 'CC_scf':1, 'scf_parameters':'1, 1, 1, 1, 1, 0.0', 'scf_tuning_index':3, 'attractor_ic_scf':'no', 'output':'tCl pCl lCl mPk', 'lensing':'yes', 'l_max_scalars':2508, 'P_k_max_h/Mpc':30,'z_max_pk':2.})\n",
    "EDE.compute()"
   ]
  },
  {
   "cell_type": "markdown",
   "metadata": {},
   "source": [
    "# Closest-fit to 100*theta_s, f_EDE, z_c, of Table 1 of Smith+. Gets 3rd decimal place of log10zc incorrect."
   ]
  },
  {
   "cell_type": "code",
   "execution_count": 26,
   "metadata": {},
   "outputs": [
    {
     "name": "stdout",
     "output_type": "stream",
     "text": [
      "log10zc= 3.565765567276044\n",
      "100 thetas= 1.04151809834\n",
      "fEDE= 0.122122527664\n"
     ]
    }
   ],
   "source": [
    "#'f_scf': 3.975e+26, 'm_scf': 5.38e-28.\n",
    "print 'log10zc=', np.log10(EDE.z_c())\n",
    "print '100 thetas=', EDE.theta_s_100()\n",
    "print 'fEDE=', EDE.fEDE()"
   ]
  },
  {
   "cell_type": "markdown",
   "metadata": {},
   "source": [
    "# Other trial-and-error attempts:"
   ]
  },
  {
   "cell_type": "code",
   "execution_count": 15,
   "metadata": {},
   "outputs": [
    {
     "name": "stdout",
     "output_type": "stream",
     "text": [
      "log10zc= 3.565765453080905\n",
      "100 thetas= 1.04149586317\n",
      "fEDE= 0.122252936565\n"
     ]
    }
   ],
   "source": [
    "#'f_scf': 3.976e+26, 'm_scf': 5.39e-28. theta_s is correct, whole z_c is slightly too big! \n",
    "print 'log10zc=', np.log10(EDE.z_c())\n",
    "print '100 thetas=', EDE.theta_s_100()\n",
    "print 'fEDE=', EDE.fEDE()"
   ]
  },
  {
   "cell_type": "code",
   "execution_count": 9,
   "metadata": {},
   "outputs": [
    {
     "name": "stdout",
     "output_type": "stream",
     "text": [
      "3.565765502180947\n",
      "1.04150838125\n",
      "0.122195975464\n"
     ]
    }
   ],
   "source": [
    "#'f_scf': 3.975e+26, 'm_scf': 5.39e-28. theta_s is correct, whole z_c is slightly too big! \n",
    "print 'log10zc=',np.log10(EDE.z_c())\n",
    "print '100 thetas=',EDE.theta_s_100()\n",
    "print 'fEDE=', EDE.fEDE()"
   ]
  },
  {
   "cell_type": "code",
   "execution_count": 7,
   "metadata": {},
   "outputs": [
    {
     "name": "stdout",
     "output_type": "stream",
     "text": [
      "3.5657654541068244\n",
      "1.04151975014\n",
      "0.12224346576\n"
     ]
    }
   ],
   "source": [
    "#'f_scf': 3.975e+26, 'm_scf': 5.43e-28. theta_s is correct, whole z_c is slightly too big! \n",
    "print np.log10(EDE.z_c())\n",
    "print EDE.theta_s_100()\n",
    "print EDE.fEDE()"
   ]
  },
  {
   "cell_type": "code",
   "execution_count": 59,
   "metadata": {},
   "outputs": [
    {
     "name": "stdout",
     "output_type": "stream",
     "text": [
      "3.590027257769763\n",
      "1.04158192306\n",
      "0.123543244082\n"
     ]
    }
   ],
   "source": [
    "# m=5.5e-28, 'f_scf': 3.985e+26\n",
    "print np.log10(EDE.z_c())\n",
    "print EDE.theta_s_100()\n",
    "print EDE.fEDE()"
   ]
  },
  {
   "cell_type": "code",
   "execution_count": 43,
   "metadata": {},
   "outputs": [
    {
     "name": "stdout",
     "output_type": "stream",
     "text": [
      "3.5596994867891287\n",
      "1.04141985453\n",
      "0.122344780867\n"
     ]
    }
   ],
   "source": [
    "# m=5.295e-28\n",
    "print np.log10(EDE.z_c())\n",
    "print EDE.theta_s_100()\n",
    "print EDE.fEDE()"
   ]
  },
  {
   "cell_type": "code",
   "execution_count": null,
   "metadata": {},
   "outputs": [],
   "source": [
    "# m=5.3\n",
    "print np.log10(EDE.z_c())\n",
    "print EDE.theta_s_100()\n",
    "print EDE.fEDE()"
   ]
  },
  {
   "cell_type": "code",
   "execution_count": 1,
   "metadata": {},
   "outputs": [],
   "source": [
    "import matplotlib\n",
    "import matplotlib.pyplot as plt\n",
    "import numpy as np\n",
    "from classy import Class\n",
    "from scipy.optimize import fsolve\n",
    "from scipy.interpolate import interp1d\n",
    "from scipy.integrate import odeint\n",
    "import math\n"
   ]
  },
  {
   "cell_type": "code",
   "execution_count": 117,
   "metadata": {},
   "outputs": [],
   "source": [
    "EDE = Class()\n",
    "#  Use best-fit params  of Smith+ :\n",
    "EDE.set({'100*theta_s': 1.04152})\n",
    "EDE.set({'f_scf': 3.973e+26, 'm_scf': 5.329e-28,'thetai_scf': 2.83, 'A_s': 2.215e-09, 'n_s': 0.9889, 'omega_b': 0.02253, 'omega_cdm': 0.1306, 'm_ncdm': 0.06, 'tau_reio': 0.072})\n",
    "EDE.set({'N_ncdm':1, 'N_ur':2.0328, 'Omega_Lambda':0.0, 'Omega_fld':0, 'Omega_scf':-1, 'n_scf':3, 'CC_scf':1, 'scf_parameters':'1, 1, 1, 1, 1, 0.0', 'scf_tuning_index':3, 'attractor_ic_scf':'no'})\n",
    "EDE.compute()"
   ]
  },
  {
   "cell_type": "code",
   "execution_count": 120,
   "metadata": {},
   "outputs": [
    {
     "name": "stdout",
     "output_type": "stream",
     "text": [
      "f_scf= 3.973e+26,  m_scf= 5.329e-28\n",
      "h= 0.7219085\n",
      "log10zc= 3.562732737072543\n",
      "fEDE= 0.122000437034\n"
     ]
    }
   ],
   "source": [
    "print 'f_scf= 3.973e+26, ', 'm_scf= 5.329e-28'\n",
    "print 'h=', EDE.h()\n",
    "print 'log10zc=', np.log10(EDE.z_c())\n",
    "print 'fEDE=', EDE.fEDE()"
   ]
  },
  {
   "cell_type": "code",
   "execution_count": null,
   "metadata": {},
   "outputs": [],
   "source": []
  }
 ],
 "metadata": {
  "kernelspec": {
   "display_name": "Python 2",
   "language": "python",
   "name": "python2"
  },
  "language_info": {
   "codemirror_mode": {
    "name": "ipython",
    "version": 2
   },
   "file_extension": ".py",
   "mimetype": "text/x-python",
   "name": "python",
   "nbconvert_exporter": "python",
   "pygments_lexer": "ipython2",
   "version": "2.7.10"
  }
 },
 "nbformat": 4,
 "nbformat_minor": 2
}
