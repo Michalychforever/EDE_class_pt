{
 "cells": [
  {
   "cell_type": "markdown",
   "metadata": {},
   "source": [
    "# Check the m_scf and f_scf values on page 17 of Smith+: This quotes the mean values from Table I.\n",
    "\n",
    "\n",
    " \". If we fix n = 3 then we have log10(zc) = 3.5\n",
    "+0.051 −0.11 , fEDE(zc) = 0.107+0.036\n",
    "−0.029,\n",
    "Θi ≡ φi/f = 2.6\n",
    "+0.36\n",
    "−0.04 can resolve the Hubble tension.....for n = 3,\n",
    "give f = 0.18±0.06 Mpl and m = 3.4\n",
    "+2.3\n",
    "−3.0×10−27 eV.\"\n",
    "\n",
    "Note: below eq. 1: \"here MP ≡(8πG)−1/2 is the reduced Planck mass.\" On page 17, they use \"M_pl\", not \"M_P\". It is not clear if this refers to the Planck mass or reduced Planck mass. By explicit computation of f_EDE, it appears that M_P is ndeed the reduced Planck mass.\n",
    "\n",
    "The reduced Planck mass is Mpl=2.435 10^18 GeV=2.435 10^27 eV\n",
    "\n",
    "\n",
    "# Result of this notebook:\n",
    "\n",
    "Mismatch in f_scf, m_scf and f_EDE,z_c quoted in Smith+. "
   ]
  },
  {
   "cell_type": "code",
   "execution_count": 1,
   "metadata": {},
   "outputs": [],
   "source": [
    "import matplotlib\n",
    "import matplotlib.pyplot as plt\n",
    "import numpy as np\n",
    "from classy import Class\n",
    "from scipy.optimize import fsolve\n",
    "from scipy.interpolate import interp1d\n",
    "from scipy.integrate import odeint\n",
    "import math\n"
   ]
  },
  {
   "cell_type": "code",
   "execution_count": 8,
   "metadata": {},
   "outputs": [
    {
     "name": "stdout",
     "output_type": "stream",
     "text": [
      "fEDE= 0.103431458477\n",
      "log10zc= 4.02663745488723\n",
      "100 thetas= 1.04838707985\n"
     ]
    }
   ],
   "source": [
    "mP=1.22e28; # Planck mass\n",
    "MP=2.435e27; # Reduced Planck Mass\n",
    "\n",
    "\n",
    "EDE = Class()\n",
    "#  Use mean params of Smith+ Table 1 : note theta_i=2.64 not 2.6. Take \"M_pl\" to be reduced Planck mass.\n",
    "# They claim \"M_P\"\n",
    "EDE.set({'h': .7149})\n",
    "EDE.set({'f_scf': .18*MP, 'm_scf': 3.4e-27,'thetai_scf': 2.64})\n",
    "EDE.set({'A_s': 2.193e-09, 'n_s': 0.9863, 'omega_b': 0.02260, 'omega_cdm': 0.1295, 'm_ncdm': 0.06, 'tau_reio': 0.069})\n",
    "EDE.set({'N_ncdm':1, 'N_ur':2.0328, 'Omega_Lambda':0.0, 'Omega_fld':0, 'Omega_scf':-1, 'n_scf':3, 'CC_scf':1, 'scf_parameters':'1, 1, 1, 1, 1, 0.0', 'scf_tuning_index':3, 'attractor_ic_scf':'no'})\n",
    "EDE.compute()\n",
    "\n",
    "\n",
    "print 'fEDE=', EDE.fEDE()\n",
    "print 'log10zc=', np.log10(EDE.z_c())\n",
    "print '100 thetas=', EDE.theta_s_100()\n",
    "\n"
   ]
  },
  {
   "cell_type": "markdown",
   "metadata": {},
   "source": [
    "# Reverse engineer their fEDE and zc. \n",
    "\n",
    "Rescale f_scf by 1.082, and m_scf by .11  "
   ]
  },
  {
   "cell_type": "code",
   "execution_count": 7,
   "metadata": {},
   "outputs": [
    {
     "name": "stdout",
     "output_type": "stream",
     "text": [
      "log10zc= 3.5111857625689415\n",
      "100 thetas= 1.04165621714\n",
      "fEDE= 0.107224398339\n"
     ]
    }
   ],
   "source": [
    "del EDE \n",
    "\n",
    "EDE = Class()\n",
    "#  Use mean params of Smith+ Table 1 : note theta_i=2.64 not 2.6.\n",
    "EDE.set({'h': .7149})\n",
    "EDE.set({'f_scf': 1.082*.18*MP, 'm_scf': .11*3.4e-27,'thetai_scf': 2.64})\n",
    "EDE.set({'A_s': 2.193e-09, 'n_s': 0.9863, 'omega_b': 0.02260, 'omega_cdm': 0.1295, 'm_ncdm': 0.06, 'tau_reio': 0.069})\n",
    "EDE.set({'N_ncdm':1, 'N_ur':2.0328, 'Omega_Lambda':0.0, 'Omega_fld':0, 'Omega_scf':-1, 'n_scf':3, 'CC_scf':1, 'scf_parameters':'1, 1, 1, 1, 1, 0.0', 'scf_tuning_index':3, 'attractor_ic_scf':'no'})\n",
    "EDE.compute()\n",
    "\n",
    "#'f_scf': 3.975e+26, 'm_scf': 5.38e-28.\n",
    "print 'log10zc=', np.log10(EDE.z_c())\n",
    "print '100 thetas=', EDE.theta_s_100()\n",
    "print 'fEDE=', EDE.fEDE()"
   ]
  },
  {
   "cell_type": "code",
   "execution_count": null,
   "metadata": {},
   "outputs": [],
   "source": []
  }
 ],
 "metadata": {
  "kernelspec": {
   "display_name": "Python 2",
   "language": "python",
   "name": "python2"
  },
  "language_info": {
   "codemirror_mode": {
    "name": "ipython",
    "version": 2
   },
   "file_extension": ".py",
   "mimetype": "text/x-python",
   "name": "python",
   "nbconvert_exporter": "python",
   "pygments_lexer": "ipython2",
   "version": "2.7.10"
  }
 },
 "nbformat": 4,
 "nbformat_minor": 2
}
