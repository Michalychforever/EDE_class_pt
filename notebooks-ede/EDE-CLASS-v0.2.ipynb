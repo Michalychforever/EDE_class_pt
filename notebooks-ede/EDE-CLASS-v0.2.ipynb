{
 "cells": [
  {
   "cell_type": "markdown",
   "metadata": {},
   "source": [
    "# Test Runs of EDE-CLASS v0.2\n",
    "\n"
   ]
  },
  {
   "cell_type": "code",
   "execution_count": 1,
   "metadata": {},
   "outputs": [],
   "source": [
    "import matplotlib\n",
    "import matplotlib.pyplot as plt\n",
    "import numpy as np\n",
    "from classy import Class\n",
    "from scipy.optimize import fsolve\n",
    "from scipy.interpolate import interp1d\n",
    "from scipy.integrate import odeint\n",
    "import math\n"
   ]
  },
  {
   "cell_type": "code",
   "execution_count": 2,
   "metadata": {},
   "outputs": [
    {
     "name": "stdout",
     "output_type": "stream",
     "text": [
      "fEDE= 0.0999990696096\n",
      "log10z_c= 4.12015856985\n"
     ]
    }
   ],
   "source": [
    "EDE = Class()\n",
    "EDE.set({'h': .7149})\n",
    "EDE.set({'log10z_c': 4.12, 'fEDE': 0.1,'thetai_scf': 2.})\n",
    "EDE.set({'A_s': 2.193e-09, 'n_s': 0.9863, 'omega_b': 0.02260, 'omega_cdm': 0.1295, 'm_ncdm': 0.06, 'tau_reio': 0.069})\n",
    "EDE.set({'N_ncdm':1, 'N_ur':2.0328, 'Omega_Lambda':0.0, 'Omega_fld':0, 'Omega_scf':-1, 'n_scf':3, 'CC_scf':1, 'scf_parameters':'1, 1, 1, 1, 1, 0.0', 'scf_tuning_index':3, 'attractor_ic_scf':'no'})\n",
    "EDE.compute()\n",
    "print 'fEDE=', EDE.fEDE()\n",
    "print 'log10z_c=', EDE.log10z_c()"
   ]
  },
  {
   "cell_type": "code",
   "execution_count": 5,
   "metadata": {},
   "outputs": [
    {
     "name": "stdout",
     "output_type": "stream",
     "text": [
      "26.88937\n",
      "-26.28835\n",
      "2.0\n"
     ]
    }
   ],
   "source": [
    "print EDE.log10f_scf()\n",
    "print EDE.log10m_scf()\n",
    "print EDE.thetai_scf()"
   ]
  },
  {
   "cell_type": "markdown",
   "metadata": {},
   "source": [
    "# Consider priors: Log10zc: 2. to 6. , fEDE= 1e-3 - 0.3,  thetai: 0.1 - 3.0. Consider all 8 corners of prior space"
   ]
  },
  {
   "cell_type": "code",
   "execution_count": 6,
   "metadata": {},
   "outputs": [
    {
     "name": "stdout",
     "output_type": "stream",
     "text": [
      "fEDE1= 0.000999328701091\n",
      "log10z_c= 2.00017750825\n"
     ]
    }
   ],
   "source": [
    "EDE1 = Class()\n",
    "EDE1.set({'h': .7149})\n",
    "EDE1.set({'log10z_c': 2., 'fEDE': 1e-3,'thetai_scf': .1})\n",
    "EDE1.set({'A_s': 2.193e-09, 'n_s': 0.9863, 'omega_b': 0.02260, 'omega_cdm': 0.1295, 'm_ncdm': 0.06, 'tau_reio': 0.069})\n",
    "EDE1.set({'N_ncdm':1, 'N_ur':2.0328, 'Omega_Lambda':0.0, 'Omega_fld':0, 'Omega_scf':-1, 'n_scf':3, 'CC_scf':1, 'scf_parameters':'1, 1, 1, 1, 1, 0.0', 'scf_tuning_index':3, 'attractor_ic_scf':'no'})\n",
    "EDE1.compute()\n",
    "print 'fEDE1=', EDE1.fEDE()\n",
    "print 'log10z_c=', EDE1.log10z_c()"
   ]
  },
  {
   "cell_type": "code",
   "execution_count": 7,
   "metadata": {},
   "outputs": [
    {
     "name": "stdout",
     "output_type": "stream",
     "text": [
      "fEDE= 0.000999256562173\n",
      "log10z_c= 2.00017750825\n"
     ]
    }
   ],
   "source": [
    "EDE2 = Class()\n",
    "EDE2.set({'h': .72})\n",
    "EDE2.set({'log10z_c': 2., 'fEDE': 1.e-3,'thetai_scf': 3.})\n",
    "EDE2.set({'A_s': 2.193e-09, 'n_s': 0.9863, 'omega_b': 0.02260, 'omega_cdm': 0.1295, 'm_ncdm': 0.06, 'tau_reio': 0.069})\n",
    "EDE2.set({'N_ncdm':1, 'N_ur':2.0328, 'Omega_Lambda':0.0, 'Omega_fld':0, 'Omega_scf':-1, 'n_scf':3, 'CC_scf':1, 'scf_parameters':'1, 1, 1, 1, 1, 0.0', 'scf_tuning_index':3, 'attractor_ic_scf':'no'})\n",
    "EDE2.compute()\n",
    "print 'fEDE=', EDE2.fEDE()\n",
    "print 'log10z_c=', EDE2.log10z_c()"
   ]
  },
  {
   "cell_type": "code",
   "execution_count": 8,
   "metadata": {},
   "outputs": [
    {
     "name": "stdout",
     "output_type": "stream",
     "text": [
      "fEDE= 0.299993683699\n",
      "log10z_c= 2.00015021472\n"
     ]
    }
   ],
   "source": [
    "EDE3 = Class()\n",
    "EDE3.set({'h': .7149})\n",
    "EDE3.set({'log10z_c': 2., 'fEDE': .3,'thetai_scf': .1})\n",
    "EDE3.set({'A_s': 2.193e-09, 'n_s': 0.9863, 'omega_b': 0.02260, 'omega_cdm': 0.1295, 'm_ncdm': 0.06, 'tau_reio': 0.069})\n",
    "EDE3.set({'N_ncdm':1, 'N_ur':2.0328, 'Omega_Lambda':0.0, 'Omega_fld':0, 'Omega_scf':-1, 'n_scf':3, 'CC_scf':1, 'scf_parameters':'1, 1, 1, 1, 1, 0.0', 'scf_tuning_index':3, 'attractor_ic_scf':'no'})\n",
    "EDE3.compute()\n",
    "print 'fEDE=', EDE3.fEDE()\n",
    "print 'log10z_c=', EDE3.log10z_c()"
   ]
  },
  {
   "cell_type": "code",
   "execution_count": 9,
   "metadata": {},
   "outputs": [
    {
     "name": "stdout",
     "output_type": "stream",
     "text": [
      "fEDE= 0.300003707476\n",
      "log10z_c= 2.00015021343\n"
     ]
    }
   ],
   "source": [
    "EDE4 = Class()\n",
    "EDE4.set({'h': .7149})\n",
    "EDE4.set({'log10z_c': 2., 'fEDE': .3,'thetai_scf': 3.})\n",
    "EDE4.set({'A_s': 2.193e-09, 'n_s': 0.9863, 'omega_b': 0.02260, 'omega_cdm': 0.1295, 'm_ncdm': 0.06, 'tau_reio': 0.069})\n",
    "EDE4.set({'N_ncdm':1, 'N_ur':2.0328, 'Omega_Lambda':0.0, 'Omega_fld':0, 'Omega_scf':-1, 'n_scf':3, 'CC_scf':1, 'scf_parameters':'1, 1, 1, 1, 1, 0.0', 'scf_tuning_index':3, 'attractor_ic_scf':'no'})\n",
    "EDE4.compute()\n",
    "print 'fEDE=', EDE4.fEDE()\n",
    "print 'log10z_c=', EDE4.log10z_c()"
   ]
  },
  {
   "cell_type": "code",
   "execution_count": 10,
   "metadata": {},
   "outputs": [
    {
     "name": "stdout",
     "output_type": "stream",
     "text": [
      "fEDE1= 0.001000305715\n",
      "log10z_c= 6.0001412789\n"
     ]
    }
   ],
   "source": [
    "EDE5 = Class()\n",
    "EDE5.set({'h': .7149})\n",
    "EDE5.set({'log10z_c': 6., 'fEDE': 1e-3,'thetai_scf': .1})\n",
    "EDE5.set({'A_s': 2.193e-09, 'n_s': 0.9863, 'omega_b': 0.02260, 'omega_cdm': 0.1295, 'm_ncdm': 0.06, 'tau_reio': 0.069})\n",
    "EDE5.set({'N_ncdm':1, 'N_ur':2.0328, 'Omega_Lambda':0.0, 'Omega_fld':0, 'Omega_scf':-1, 'n_scf':3, 'CC_scf':1, 'scf_parameters':'1, 1, 1, 1, 1, 0.0', 'scf_tuning_index':3, 'attractor_ic_scf':'no'})\n",
    "EDE5.compute()\n",
    "print 'fEDE1=', EDE5.fEDE()\n",
    "print 'log10z_c=', EDE5.log10z_c()"
   ]
  },
  {
   "cell_type": "code",
   "execution_count": 11,
   "metadata": {},
   "outputs": [
    {
     "name": "stdout",
     "output_type": "stream",
     "text": [
      "fEDE= 0.000999400018511\n",
      "log10z_c= 6.00014127897\n"
     ]
    }
   ],
   "source": [
    "EDE6 = Class()\n",
    "EDE6.set({'h': .72})\n",
    "EDE6.set({'log10z_c': 6., 'fEDE': 1.e-3,'thetai_scf': 3.})\n",
    "EDE6.set({'A_s': 2.193e-09, 'n_s': 0.9863, 'omega_b': 0.02260, 'omega_cdm': 0.1295, 'm_ncdm': 0.06, 'tau_reio': 0.069})\n",
    "EDE6.set({'N_ncdm':1, 'N_ur':2.0328, 'Omega_Lambda':0.0, 'Omega_fld':0, 'Omega_scf':-1, 'n_scf':3, 'CC_scf':1, 'scf_parameters':'1, 1, 1, 1, 1, 0.0', 'scf_tuning_index':3, 'attractor_ic_scf':'no'})\n",
    "EDE6.compute()\n",
    "print 'fEDE=', EDE6.fEDE()\n",
    "print 'log10z_c=', EDE6.log10z_c()"
   ]
  },
  {
   "cell_type": "code",
   "execution_count": 12,
   "metadata": {},
   "outputs": [
    {
     "name": "stdout",
     "output_type": "stream",
     "text": [
      "fEDE= 0.300008701912\n",
      "log10z_c= 6.00011426135\n"
     ]
    }
   ],
   "source": [
    "EDE7 = Class()\n",
    "EDE7.set({'h': .7149})\n",
    "EDE7.set({'log10z_c': 6., 'fEDE': .3,'thetai_scf': .1})\n",
    "EDE7.set({'A_s': 2.193e-09, 'n_s': 0.9863, 'omega_b': 0.02260, 'omega_cdm': 0.1295, 'm_ncdm': 0.06, 'tau_reio': 0.069})\n",
    "EDE7.set({'N_ncdm':1, 'N_ur':2.0328, 'Omega_Lambda':0.0, 'Omega_fld':0, 'Omega_scf':-1, 'n_scf':3, 'CC_scf':1, 'scf_parameters':'1, 1, 1, 1, 1, 0.0', 'scf_tuning_index':3, 'attractor_ic_scf':'no'})\n",
    "EDE7.compute()\n",
    "print 'fEDE=', EDE7.fEDE()\n",
    "print 'log10z_c=', EDE7.log10z_c()"
   ]
  },
  {
   "cell_type": "code",
   "execution_count": 13,
   "metadata": {},
   "outputs": [
    {
     "name": "stdout",
     "output_type": "stream",
     "text": [
      "fEDE= 0.299994653725\n",
      "log10z_c= 6.00011426266\n"
     ]
    }
   ],
   "source": [
    "EDE8 = Class()\n",
    "EDE8.set({'h': .7149})\n",
    "EDE8.set({'log10z_c': 6., 'fEDE': .3,'thetai_scf': 3.})\n",
    "EDE8.set({'A_s': 2.193e-09, 'n_s': 0.9863, 'omega_b': 0.02260, 'omega_cdm': 0.1295, 'm_ncdm': 0.06, 'tau_reio': 0.069})\n",
    "EDE8.set({'N_ncdm':1, 'N_ur':2.0328, 'Omega_Lambda':0.0, 'Omega_fld':0, 'Omega_scf':-1, 'n_scf':3, 'CC_scf':1, 'scf_parameters':'1, 1, 1, 1, 1, 0.0', 'scf_tuning_index':3, 'attractor_ic_scf':'no'})\n",
    "EDE8.compute()\n",
    "print 'fEDE=', EDE8.fEDE()\n",
    "print 'log10z_c=', EDE8.log10z_c()"
   ]
  },
  {
   "cell_type": "markdown",
   "metadata": {},
   "source": [
    "# Test: specify log10f_scf and log10m_scf"
   ]
  },
  {
   "cell_type": "code",
   "execution_count": 15,
   "metadata": {},
   "outputs": [
    {
     "name": "stdout",
     "output_type": "stream",
     "text": [
      "fEDE= 0.0172420060007\n",
      "log10z_c= 4.20830531471\n"
     ]
    }
   ],
   "source": [
    "EDE9 = Class()\n",
    "EDE9.set({'h': .7149})\n",
    "EDE9.set({'log10f_scf': 26., 'log10m_scf': -26.,'thetai_scf': 3.})\n",
    "EDE9.set({'A_s': 2.193e-09, 'n_s': 0.9863, 'omega_b': 0.02260, 'omega_cdm': 0.1295, 'm_ncdm': 0.06, 'tau_reio': 0.069})\n",
    "EDE9.set({'N_ncdm':1, 'N_ur':2.0328, 'Omega_Lambda':0.0, 'Omega_fld':0, 'Omega_scf':-1, 'n_scf':3, 'CC_scf':1, 'scf_parameters':'1, 1, 1, 1, 1, 0.0', 'scf_tuning_index':3, 'attractor_ic_scf':'no'})\n",
    "EDE9.compute()\n",
    "print 'fEDE=', EDE9.fEDE()\n",
    "print 'log10z_c=', EDE9.log10z_c()"
   ]
  },
  {
   "cell_type": "markdown",
   "metadata": {},
   "source": [
    "# Test Backward Compatibility: specify f_scf and m_scf explicitly"
   ]
  },
  {
   "cell_type": "code",
   "execution_count": 16,
   "metadata": {},
   "outputs": [
    {
     "name": "stdout",
     "output_type": "stream",
     "text": [
      "fEDE= 0.0172420060007\n",
      "log10z_c= 4.20830531471\n"
     ]
    }
   ],
   "source": [
    "EDE10 = Class()\n",
    "EDE10.set({'h': .7149})\n",
    "EDE10.set({'f_scf': 1.e26, 'm_scf': 1.e-26,'thetai_scf': 3.})\n",
    "EDE10.set({'A_s': 2.193e-09, 'n_s': 0.9863, 'omega_b': 0.02260, 'omega_cdm': 0.1295, 'm_ncdm': 0.06, 'tau_reio': 0.069})\n",
    "EDE10.set({'N_ncdm':1, 'N_ur':2.0328, 'Omega_Lambda':0.0, 'Omega_fld':0, 'Omega_scf':-1, 'n_scf':3, 'CC_scf':1, 'scf_parameters':'1, 1, 1, 1, 1, 0.0', 'scf_tuning_index':3, 'attractor_ic_scf':'no'})\n",
    "EDE10.compute()\n",
    "print 'fEDE=', EDE10.fEDE()\n",
    "print 'log10z_c=', EDE10.log10z_c()"
   ]
  },
  {
   "cell_type": "code",
   "execution_count": null,
   "metadata": {},
   "outputs": [],
   "source": []
  }
 ],
 "metadata": {
  "kernelspec": {
   "display_name": "Python 2",
   "language": "python",
   "name": "python2"
  },
  "language_info": {
   "codemirror_mode": {
    "name": "ipython",
    "version": 2
   },
   "file_extension": ".py",
   "mimetype": "text/x-python",
   "name": "python",
   "nbconvert_exporter": "python",
   "pygments_lexer": "ipython2",
   "version": "2.7.10"
  }
 },
 "nbformat": 4,
 "nbformat_minor": 2
}
