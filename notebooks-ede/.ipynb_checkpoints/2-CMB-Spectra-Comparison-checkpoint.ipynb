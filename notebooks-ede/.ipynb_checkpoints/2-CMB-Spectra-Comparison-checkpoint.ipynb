{
 "cells": [
  {
   "cell_type": "code",
   "execution_count": 1,
   "metadata": {},
   "outputs": [],
   "source": [
    "import matplotlib\n",
    "import matplotlib.pyplot as plt\n",
    "import numpy as np\n",
    "from classy import Class\n",
    "from scipy.optimize import fsolve\n",
    "from scipy.interpolate import interp1d\n",
    "from scipy.integrate import odeint\n",
    "import math\n"
   ]
  },
  {
   "cell_type": "code",
   "execution_count": 2,
   "metadata": {},
   "outputs": [],
   "source": [
    "font = {'size'   : 10, 'family':'STIXGeneral'}\n",
    "axislabelfontsize='small'\n",
    "matplotlib.rc('font', **font)\n",
    "matplotlib.mathtext.rcParams['legend.fontsize']='medium'"
   ]
  },
  {
   "cell_type": "code",
   "execution_count": 3,
   "metadata": {},
   "outputs": [],
   "source": [
    "LCDM_settings = {# wich output? ClTT, transfer functions delta_i and theta_i\n",
    "                   'output':'tCl,pCl,lCl,mPk',\n",
    "                   'lensing':'yes',\n",
    "                   # LambdaCDM parameters\n",
    "                   'h':0.6821,\n",
    "                   'omega_b':0.02253,\n",
    "                   'omega_cdm':0.1177,\n",
    "                   'A_s':2.216e-9, #caught a typo\n",
    "                   'n_s':0.9686,\n",
    "                   'tau_reio':0.085,\n",
    "                   'm_ncdm': 0.06,\n",
    "                   'N_ncdm':1, \n",
    "                   'N_ur':2.0328,\n",
    "                   #'Omega_Lambda': 6.878622e-01,\n",
    "                   # Take fixed value for primordial Helium (instead of automatic BBN adjustment)\n",
    "                   #'YHe':0.246,\n",
    "                   # other output and precision parameters\n",
    "                   'l_max_scalars':2508,\n",
    "                   'non linear':'HMcode',\n",
    "                   'P_k_max_h/Mpc':100,\n",
    "                   'z_max_pk':2.}"
   ]
  },
  {
   "cell_type": "code",
   "execution_count": null,
   "metadata": {},
   "outputs": [],
   "source": [
    "LCDM = Class()\n",
    "LCDM.set(LCDM_settings)\n",
    "LCDM.compute()"
   ]
  },
  {
   "cell_type": "code",
   "execution_count": null,
   "metadata": {},
   "outputs": [],
   "source": [
    "EDE = Class()\n",
    "#  Use best-fit params  of Smith+ :\n",
    "EDE.set({'h': .7219})\n",
    "EDE.set({'f_scf': 3.98e+26,\n",
    "         'm_scf': 5.31e-28,\n",
    "         'thetai_scf': 2.83,\n",
    "         'A_s': 2.215e-09,\n",
    "         'n_s': 0.9889,\n",
    "         'omega_b': 0.02253,\n",
    "         'omega_cdm': 0.1306,\n",
    "         'm_ncdm': 0.06,\n",
    "         'tau_reio': 0.072})\n",
    "EDE.set({'non linear':'HMCODE','N_ncdm':1, 'N_ur':2.0328, 'Omega_Lambda':0.0, 'Omega_fld':0, 'Omega_scf':-1, 'n_scf':3, 'CC_scf':1, 'scf_parameters':'1, 1, 1, 1, 1, 0.0', 'scf_tuning_index':3, 'attractor_ic_scf':'no', 'output':'tCl pCl lCl mPk', 'lensing':'yes', 'l_max_scalars':2508, 'P_k_max_h/Mpc':30,'z_max_pk':2.})\n",
    "EDE.compute()"
   ]
  },
  {
   "cell_type": "code",
   "execution_count": null,
   "metadata": {},
   "outputs": [],
   "source": [
    "# Cell\n",
    "# note Cl^gamma-gamma = 1/4 * [(l+2)!/(l-2)!] C_l^phi-phi.\n",
    "\n",
    "clLCDM=LCDM.lensed_cl()\n",
    "clEDE=EDE.lensed_cl()\n",
    "clell = clLCDM.get(\"ell\")\n",
    "clTTLCDM = clLCDM.get(\"tt\")\n",
    "clTTEDE = clEDE.get(\"tt\")\n",
    "clppLCDM = clLCDM.get(\"pp\")\n",
    "clppEDE = clEDE.get(\"pp\")\n",
    "clEELCDM = clLCDM.get(\"ee\")\n",
    "clEEEDE = clEDE.get(\"ee\")\n",
    "clTELCDM = clLCDM.get(\"te\")\n",
    "clTEEDE = clEDE.get(\"te\")\n",
    "\n",
    "\n",
    "\n",
    "DellTTLCDM = 1e12*np.multiply(np.multiply(clell,clell+1),clTTLCDM)/(2*3.14)\n",
    "DellTTEDE = 1e12*np.multiply(np.multiply(clell,clell+1),clTTEDE)/(2*3.14)\n",
    "DellppLCDM = 1e12*np.multiply(np.multiply(clell,clell+1),clppLCDM)/(2*3.14)\n",
    "DellppEDE = 1e12*np.multiply(np.multiply(clell,clell+1),clppEDE)/(2*3.14)\n",
    "DellTELCDM = 1e12*np.multiply(np.multiply(clell,clell+1),clTELCDM)/(2*3.14)\n",
    "DellTEEDE = 1e12*np.multiply(np.multiply(clell,clell+1),clTEEDE)/(2*3.14)\n",
    "DellEELCDM = 1e12*np.multiply(np.multiply(clell,clell+1),clEELCDM)/(2*3.14)\n",
    "DellEEEDE = 1e12*np.multiply(np.multiply(clell,clell+1),clEEEDE)/(2*3.14)"
   ]
  },
  {
   "cell_type": "code",
   "execution_count": null,
   "metadata": {},
   "outputs": [],
   "source": [
    "# note Cl^gamma-gamma = 1/4 * [(l+2)!/(l-2)!] C_l^phi-phi.\n",
    "# Note: [(l+2)!/(l-2)!]= (l+2)(l+1)(l)(l-1)\n",
    "cellgg = np.zeros(len(clell)-1)\n",
    "DellggLCDM = np.zeros(len(clell)-1)\n",
    "DellggEDE= np.zeros(len(clell)-1)\n",
    "\n",
    "for i in range(2,len(clell)-1):\n",
    "    cellgg[i]=clell[i]\n",
    "    prefactor=0.25*1e12*(clell[i]+2)*(clell[i]+1)*clell[i]*(clell[i]-1)\n",
    "    DellggLCDM[i] = 0.25*1e12*(math.factorial(clell[i]+2)/math.factorial(clell[i]-2))*clell[i]*(clell[i]+1)*clppLCDM[i]/(2*3.14)\n",
    "    DellggEDE[i] = 0.25*1e12*(math.factorial(clell[i]+2)/math.factorial(clell[i]-2))*clell[i]*(clell[i]+1)*clppEDE[i]/(2*3.14)\n",
    " "
   ]
  },
  {
   "cell_type": "code",
   "execution_count": null,
   "metadata": {},
   "outputs": [],
   "source": [
    "# TT, EE, TE, lensing\n",
    "plt.figure()\n",
    "plt.plot(clell,DellTTLCDM,c='k',lw=1.)\n",
    "plt.plot(clell,DellTTEDE,c='r',lw=1.)\n",
    "plt.xscale('linear')\n",
    "plt.yscale('log')\n",
    "plt.xlim([2,2500])\n",
    "plt.ylim([1e1,1e3])\n",
    "plt.xlabel(r'$\\ell$')\n",
    "plt.ylabel(r'$D_\\ell ^{\\rm TT} [\\mu {\\rm K}^2 ]$')\n",
    "#plt.savefig('DellTT.pdf')\n",
    "#plt.clf()\n",
    "\n",
    "plt.figure()\n",
    "plt.plot(clell,DellTELCDM,c='k')\n",
    "plt.plot(clell,DellTEEDE,c='r')\n",
    "plt.xscale('linear')\n",
    "plt.yscale('linear')\n",
    "plt.xlim([2,2500])\n",
    "plt.ylabel(r'$D_\\ell ^{\\rm TE} [\\mu {\\rm K}^2 ]$')\n",
    "#plt.savefig('DellTE.pdf')\n",
    "#plt.clf()\n",
    "\n",
    "plt.figure()\n",
    "plt.plot(clell,DellEELCDM,c='k')\n",
    "plt.plot(clell,DellEEEDE,c='r')\n",
    "plt.xlim([2,2500])\n",
    "plt.xscale('linear')\n",
    "plt.yscale('log')\n",
    "plt.ylabel(r'$D_\\ell ^{\\rm EE} [\\mu {\\rm K}^2 ]$')\n",
    "#plt.savefig('DellEE.pdf')\n",
    "#plt.clf()\n",
    "\n",
    "plt.figure()\n",
    "plt.plot(cellgg,DellggLCDM,c='k')\n",
    "plt.plot(cellgg,DellggEDE,c='r')\n",
    "plt.xlim([2,2500])\n",
    "plt.xscale('linear')\n",
    "#plt.yscale('log')\n",
    "plt.ylabel(r'$D_\\ell ^{\\gamma \\gamma} [\\mu {\\rm K}^2 ]$')\n",
    "#plt.savefig('Dellgg.pdf')\n",
    "#plt.clf()\n",
    "\n",
    "\n"
   ]
  },
  {
   "cell_type": "code",
   "execution_count": null,
   "metadata": {},
   "outputs": [],
   "source": []
  }
 ],
 "metadata": {
  "kernelspec": {
   "display_name": "Python 2",
   "language": "python",
   "name": "python2"
  },
  "language_info": {
   "codemirror_mode": {
    "name": "ipython",
    "version": 2
   },
   "file_extension": ".py",
   "mimetype": "text/x-python",
   "name": "python",
   "nbconvert_exporter": "python",
   "pygments_lexer": "ipython2",
   "version": "2.7.16"
  }
 },
 "nbformat": 4,
 "nbformat_minor": 2
}
