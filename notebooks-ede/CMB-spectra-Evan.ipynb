{
 "cells": [
  {
   "cell_type": "code",
   "execution_count": 1,
   "metadata": {},
   "outputs": [],
   "source": [
    "import matplotlib\n",
    "import matplotlib.pyplot as plt\n",
    "import numpy as np\n",
    "from classy import Class\n",
    "from scipy.optimize import fsolve\n",
    "from scipy.interpolate import interp1d\n",
    "from scipy.integrate import odeint\n",
    "import math\n"
   ]
  },
  {
   "cell_type": "code",
   "execution_count": 2,
   "metadata": {},
   "outputs": [],
   "source": [
    "font = {'size'   : 10, 'family':'STIXGeneral'}\n",
    "axislabelfontsize='small'\n",
    "matplotlib.rc('font', **font)\n",
    "matplotlib.mathtext.rcParams['legend.fontsize']='medium'"
   ]
  },
  {
   "cell_type": "code",
   "execution_count": 3,
   "metadata": {},
   "outputs": [],
   "source": [
    "LCDM_settings = {# wich output? ClTT, transfer functions delta_i and theta_i\n",
    "                   'output':'tCl,pCl,lCl,mPk',\n",
    "                   'lensing':'yes',\n",
    "                   # LambdaCDM parameters\n",
    "                   'h':0.6821,\n",
    "                   'omega_b':0.02253,\n",
    "                   'omega_cdm':0.1177,\n",
    "                   'A_s':2.216e-9, #caught a typo\n",
    "                   'n_s':0.9686,\n",
    "                   'tau_reio':0.085,\n",
    "                   'm_ncdm': 0.06,\n",
    "                   'N_ncdm':1, \n",
    "                   'N_ur':2.0328,\n",
    "                   #'Omega_Lambda': 6.878622e-01,\n",
    "                   # Take fixed value for primordial Helium (instead of automatic BBN adjustment)\n",
    "                   #'YHe':0.246,\n",
    "                   # other output and precision parameters\n",
    "                   'l_max_scalars':2508,\n",
    "                   'non linear':'HMcode',\n",
    "                   'P_k_max_h/Mpc':100,\n",
    "                   'z_max_pk':2.}"
   ]
  },
  {
   "cell_type": "code",
   "execution_count": 4,
   "metadata": {},
   "outputs": [],
   "source": [
    "LCDM = Class()\n",
    "LCDM.set(LCDM_settings)\n",
    "LCDM.compute()"
   ]
  },
  {
   "cell_type": "code",
   "execution_count": 28,
   "metadata": {},
   "outputs": [],
   "source": [
    "del EDE"
   ]
  },
  {
   "cell_type": "code",
   "execution_count": 70,
   "metadata": {},
   "outputs": [],
   "source": [
    "EDE = Class()\n",
    "#  Use best-fit params  of Smith+ :\n",
    "EDE.set({'h': .7219})\n",
    "EDE.set({'f_scf': 3.975e+26, 'm_scf': 5.4e-28,'thetai_scf': 2.83, 'A_s': 2.215e-09, 'n_s': 0.9889, 'omega_b': 0.02253, 'omega_cdm': 0.1306, 'm_ncdm': 0.06, 'tau_reio': 0.072})\n",
    "EDE.set({'non linear':'HMCODE','N_ncdm':1, 'N_ur':2.0328, 'Omega_Lambda':0.0, 'Omega_fld':0, 'Omega_scf':-1, 'n_scf':3, 'CC_scf':1, 'scf_parameters':'1, 1, 1, 1, 1, 0.0', 'scf_tuning_index':3, 'attractor_ic_scf':'no', 'output':'tCl pCl lCl mPk', 'lensing':'yes', 'l_max_scalars':2508, 'P_k_max_h/Mpc':30,'z_max_pk':2.})\n",
    "EDE.compute()"
   ]
  },
  {
   "cell_type": "code",
   "execution_count": null,
   "metadata": {},
   "outputs": [],
   "source": []
  },
  {
   "cell_type": "code",
   "execution_count": 71,
   "metadata": {},
   "outputs": [
    {
     "name": "stdout",
     "output_type": "stream",
     "text": [
      "3.565765487761381\n",
      "1.04151119761\n",
      "0.122210630374\n"
     ]
    }
   ],
   "source": [
    "#'f_scf': 3.985e+26, 'm_scf': 5.4e-28. Extremeley close!!\n",
    "print np.log10(EDE.z_c())\n",
    "print EDE.theta_s_100()\n",
    "print EDE.fEDE()"
   ]
  },
  {
   "cell_type": "code",
   "execution_count": 59,
   "metadata": {},
   "outputs": [
    {
     "name": "stdout",
     "output_type": "stream",
     "text": [
      "3.590027257769763\n",
      "1.04158192306\n",
      "0.123543244082\n"
     ]
    }
   ],
   "source": [
    "# m=5.5e-28, 'f_scf': 3.985e+26\n",
    "print np.log10(EDE.z_c())\n",
    "print EDE.theta_s_100()\n",
    "print EDE.fEDE()"
   ]
  },
  {
   "cell_type": "code",
   "execution_count": 43,
   "metadata": {},
   "outputs": [
    {
     "name": "stdout",
     "output_type": "stream",
     "text": [
      "3.5596994867891287\n",
      "1.04141985453\n",
      "0.122344780867\n"
     ]
    }
   ],
   "source": [
    "# m=5.295e-28\n",
    "print np.log10(EDE.z_c())\n",
    "print EDE.theta_s_100()\n",
    "print EDE.fEDE()"
   ]
  },
  {
   "cell_type": "code",
   "execution_count": 45,
   "metadata": {},
   "outputs": [
    {
     "data": {
      "text/plain": [
       "-25.42718445345372"
      ]
     },
     "execution_count": 45,
     "metadata": {},
     "output_type": "execute_result"
    }
   ],
   "source": [
    "10**3.5596994867891287 - 10**3.562732440197178"
   ]
  },
  {
   "cell_type": "code",
   "execution_count": 35,
   "metadata": {},
   "outputs": [
    {
     "name": "stdout",
     "output_type": "stream",
     "text": [
      "3.562732440197178\n",
      "1.04142144065\n",
      "0.12235075021\n"
     ]
    }
   ],
   "source": [
    "# m=5.3\n",
    "print np.log10(EDE.z_c())\n",
    "print EDE.theta_s_100()\n",
    "print EDE.fEDE()"
   ]
  },
  {
   "cell_type": "code",
   "execution_count": 6,
   "metadata": {},
   "outputs": [],
   "source": [
    "# Cell\n",
    "# note Cl^gamma-gamma = 1/4 * [(l+2)!/(l-2)!] C_l^phi-phi.\n",
    "\n",
    "clLCDM=LCDM.lensed_cl()\n",
    "clEDE=EDE.lensed_cl()\n",
    "clell = clLCDM.get(\"ell\")\n",
    "clTTLCDM = clLCDM.get(\"tt\")\n",
    "clTTEDE = clEDE.get(\"tt\")\n",
    "clppLCDM = clLCDM.get(\"pp\")\n",
    "clppEDE = clEDE.get(\"pp\")\n",
    "clEELCDM = clLCDM.get(\"ee\")\n",
    "clEEEDE = clEDE.get(\"ee\")\n",
    "clTELCDM = clLCDM.get(\"te\")\n",
    "clTEEDE = clEDE.get(\"te\")\n",
    "\n",
    "\n",
    "\n",
    "\n",
    "DellTTLCDM = 1e12*np.multiply(np.multiply(clell,clell+1),clTTLCDM)/(2*3.14)\n",
    "DellTTEDE = 1e12*np.multiply(np.multiply(clell,clell+1),clTTEDE)/(2*3.14)\n",
    "DellppLCDM = 1e12*np.multiply(np.multiply(clell,clell+1),clppLCDM)/(2*3.14)\n",
    "DellppEDE = 1e12*np.multiply(np.multiply(clell,clell+1),clppEDE)/(2*3.14)\n",
    "DellTELCDM = 1e12*np.multiply(np.multiply(clell,clell+1),clTELCDM)/(2*3.14)\n",
    "DellTEEDE = 1e12*np.multiply(np.multiply(clell,clell+1),clTEEDE)/(2*3.14)\n",
    "DellEELCDM = 1e12*np.multiply(np.multiply(clell,clell+1),clEELCDM)/(2*3.14)\n",
    "DellEEEDE = 1e12*np.multiply(np.multiply(clell,clell+1),clEEEDE)/(2*3.14)\n",
    "\n",
    "\n",
    "\n",
    "\n",
    "\n",
    "\n",
    "\n"
   ]
  },
  {
   "cell_type": "code",
   "execution_count": 14,
   "metadata": {},
   "outputs": [
    {
     "name": "stdout",
     "output_type": "stream",
     "text": [
      "[  0.           0.         146.84808581 ...  10.35720517  10.32769356\n",
      "  10.29838345]\n"
     ]
    }
   ],
   "source": [
    "print DellTTLCDM"
   ]
  },
  {
   "cell_type": "code",
   "execution_count": 9,
   "metadata": {},
   "outputs": [],
   "source": [
    "# note Cl^gamma-gamma = 1/4 * [(l+2)!/(l-2)!] C_l^phi-phi.\n",
    "# Note: [(l+2)!/(l-2)!]= (l+2)(l+1)(l)(l-1)\n",
    "cellgg = np.zeros(len(clell)-1)\n",
    "DellggLCDM = np.zeros(len(clell)-1)\n",
    "DellggEDE= np.zeros(len(clell)-1)\n",
    "DiffTT= np.zeros(len(clell)-1)\n",
    "\n",
    "for i in range(2,len(clell)-1):\n",
    "    cellgg[i]=clell[i]\n",
    "    prefactor=0.25*1e12*(clell[i]+2)*(clell[i]+1)*clell[i]*(clell[i]-1)\n",
    "    DellggLCDM[i] = 0.25*1e12*(math.factorial(clell[i]+2)/math.factorial(clell[i]-2))*clell[i]*(clell[i]+1)*clppLCDM[i]/(2*3.14)\n",
    "    DellggEDE[i] = 0.25*1e12*(math.factorial(clell[i]+2)/math.factorial(clell[i]-2))*clell[i]*(clell[i]+1)*clppEDE[i]/(2*3.14)\n",
    "    DiffTT[i] = clTTEDE[i]/clTTLCDM[i] - 1\n",
    " "
   ]
  },
  {
   "cell_type": "code",
   "execution_count": 10,
   "metadata": {},
   "outputs": [],
   "source": [
    "# TT, EE, TE, lensing\n",
    "plt.figure()\n",
    "plt.plot(clell,DellTTLCDM,c='k',lw=1.)\n",
    "plt.plot(clell,DellTTEDE,c='r',lw=1.)\n",
    "plt.xscale('linear')\n",
    "plt.yscale('log')\n",
    "plt.xlim([2,2500])\n",
    "plt.ylim([1e1,1e3])\n",
    "plt.xlabel(r'$\\ell$')\n",
    "plt.ylabel(r'$D_\\ell ^{\\rm TT} [\\mu {\\rm K}^2 ]$')\n",
    "plt.savefig('DellTT.pdf')\n",
    "plt.clf()\n",
    "\n",
    "plt.figure()\n",
    "plt.plot(clell,DellTELCDM,c='k')\n",
    "plt.plot(clell,DellTEEDE,c='r')\n",
    "plt.xscale('linear')\n",
    "plt.yscale('linear')\n",
    "plt.xlim([2,2500])\n",
    "plt.ylabel(r'$D_\\ell ^{\\rm TE} [\\mu {\\rm K}^2 ]$')\n",
    "plt.savefig('DellTE.pdf')\n",
    "plt.clf()\n",
    "\n",
    "plt.figure()\n",
    "plt.plot(clell,DellEELCDM,c='k')\n",
    "plt.plot(clell,DellEEEDE,c='r')\n",
    "plt.xlim([2,2500])\n",
    "plt.xscale('linear')\n",
    "plt.yscale('log')\n",
    "plt.ylabel(r'$D_\\ell ^{\\rm EE} [\\mu {\\rm K}^2 ]$')\n",
    "plt.savefig('DellEE.pdf')\n",
    "plt.clf()\n",
    "\n",
    "plt.figure()\n",
    "plt.plot(cellgg,DellggLCDM,c='k')\n",
    "plt.plot(cellgg,DellggEDE,c='r')\n",
    "plt.xlim([2,2500])\n",
    "plt.xscale('linear')\n",
    "#plt.yscale('log')\n",
    "plt.ylabel(r'$D_\\ell ^{\\gamma \\gamma} [\\mu {\\rm K}^2 ]$')\n",
    "plt.savefig('Dellgg.pdf')\n",
    "plt.clf()\n",
    "\n",
    "\n"
   ]
  },
  {
   "cell_type": "code",
   "execution_count": 11,
   "metadata": {},
   "outputs": [],
   "source": [
    "#Difference Plot\n",
    "plt.figure()\n",
    "plt.plot(cellgg,DiffTT,c='k',lw=1.)\n",
    "plt.xscale('log')\n",
    "plt.yscale('linear')\n",
    "plt.xlim([2,2500])\n",
    "plt.ylim([-.1,.1])\n",
    "plt.xlabel(r'$\\ell$')\n",
    "plt.ylabel(r'$\\Delta C_\\ell ^{\\rm TT}/C_\\ell [\\mu {\\rm K}^2 ]$')\n",
    "plt.grid()\n",
    "plt.savefig('DiffTT.pdf')\n",
    "plt.clf()"
   ]
  },
  {
   "cell_type": "code",
   "execution_count": 12,
   "metadata": {},
   "outputs": [
    {
     "name": "stdout",
     "output_type": "stream",
     "text": [
      "0.302785564546\n",
      "0.250604631646\n",
      "0.0432321772663\n",
      "0.02253\n",
      "0.295072259621\n"
     ]
    }
   ],
   "source": [
    "print LCDM.Omega0_m()\n",
    "print EDE.Omega0_cdm()\n",
    "print EDE.Omega_b()\n",
    "print EDE.omega_b()\n",
    "print EDE.Omega_m()"
   ]
  },
  {
   "cell_type": "code",
   "execution_count": 55,
   "metadata": {},
   "outputs": [
    {
     "data": {
      "text/plain": [
       "1.6230903043637963"
      ]
     },
     "execution_count": 55,
     "metadata": {},
     "output_type": "execute_result"
    }
   ],
   "source": [
    "EDE.Omega_m()*EDE.h()**2"
   ]
  },
  {
   "cell_type": "code",
   "execution_count": null,
   "metadata": {},
   "outputs": [],
   "source": []
  }
 ],
 "metadata": {
  "kernelspec": {
   "display_name": "Python 2",
   "language": "python",
   "name": "python2"
  },
  "language_info": {
   "codemirror_mode": {
    "name": "ipython",
    "version": 2
   },
   "file_extension": ".py",
   "mimetype": "text/x-python",
   "name": "python",
   "nbconvert_exporter": "python",
   "pygments_lexer": "ipython2",
   "version": "2.7.10"
  }
 },
 "nbformat": 4,
 "nbformat_minor": 2
}
